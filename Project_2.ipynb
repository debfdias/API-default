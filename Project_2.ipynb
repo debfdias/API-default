{
  "nbformat": 4,
  "nbformat_minor": 0,
  "metadata": {
    "colab": {
      "name": "Cópia de Project_1.ipynb",
      "provenance": [],
      "collapsed_sections": [],
      "include_colab_link": true
    },
    "kernelspec": {
      "name": "python3",
      "display_name": "Python 3"
    },
    "language_info": {
      "name": "python"
    }
  },
  "cells": [
    {
      "cell_type": "markdown",
      "metadata": {
        "id": "view-in-github",
        "colab_type": "text"
      },
      "source": [
        "<a href=\"https://colab.research.google.com/github/debfdias/API-default/blob/master/Project_2.ipynb\" target=\"_parent\"><img src=\"https://colab.research.google.com/assets/colab-badge.svg\" alt=\"Open In Colab\"/></a>"
      ]
    },
    {
      "cell_type": "code",
      "metadata": {
        "id": "qvSv-z8qYhrz"
      },
      "source": [
        "import numpy as np\n",
        "import pandas as pd\n",
        "from scipy import stats\n",
        "import seaborn as sns\n",
        "import matplotlib.pyplot as plt\n",
        "import calendar"
      ],
      "execution_count": null,
      "outputs": []
    },
    {
      "cell_type": "code",
      "metadata": {
        "id": "6HGU6r7p7T_t",
        "colab": {
          "base_uri": "https://localhost:8080/"
        },
        "outputId": "aee1152b-4934-4292-aa85-b61c5c6316b5"
      },
      "source": [
        "dengue = pd.read_csv(\"https://raw.githubusercontent.com/HiagoAD/GDI2/master/datasets/dengue2020.csv\", encoding =\"UTF-8\")\n",
        "emlurb = pd.read_csv(\"https://raw.githubusercontent.com/HiagoAD/GDI2/master/datasets/emlurb2020.csv\", encoding =\"UTF-8\")\n",
        "\n",
        "dengue19 = pd.read_csv(\"https://raw.githubusercontent.com/HiagoAD/GDI2/master/datasets/dengue2019.csv\", encoding =\"UTF-8\", error_bad_lines=False)\n",
        "emlurb19 = pd.read_csv(\"https://raw.githubusercontent.com/HiagoAD/GDI2/master/datasets/emlurb2019.csv\", encoding =\"UTF-8\")\n",
        "\n",
        "\n",
        "dengue18 = pd.read_csv(\"https://raw.githubusercontent.com/HiagoAD/GDI2/master/datasets/dengue2018.csv\", encoding =\"UTF-8\", error_bad_lines=False)\n",
        "emlurb18 = pd.read_csv(\"https://raw.githubusercontent.com/HiagoAD/GDI2/master/datasets/emlurb2018.csv\", encoding =\"UTF-8\")\n",
        "\n",
        "dengue17 = pd.read_csv(\"https://raw.githubusercontent.com/HiagoAD/GDI2/master/datasets/dengue2017.csv\", encoding =\"UTF-8\", error_bad_lines=False)\n",
        "emlurb17 = pd.read_csv(\"https://raw.githubusercontent.com/HiagoAD/GDI2/master/datasets/emlurb2017.csv\", encoding =\"UTF-8\")\n",
        "\n",
        "dengue16 = pd.read_csv(\"https://raw.githubusercontent.com/HiagoAD/GDI2/master/datasets/dengue2016.csv\", encoding =\"UTF-8\", error_bad_lines=False)\n",
        "emlurb16 = pd.read_csv(\"https://raw.githubusercontent.com/HiagoAD/GDI2/master/datasets/emlurb2016.csv\", encoding =\"UTF-8\")\n"
      ],
      "execution_count": null,
      "outputs": [
        {
          "output_type": "stream",
          "text": [
            "b'Skipping line 108: expected 126 fields, saw 127\\nSkipping line 1485: expected 126 fields, saw 127\\nSkipping line 2584: expected 126 fields, saw 127\\nSkipping line 4415: expected 126 fields, saw 127\\nSkipping line 5659: expected 126 fields, saw 127\\nSkipping line 6469: expected 126 fields, saw 127\\n'\n",
            "/usr/local/lib/python3.7/dist-packages/IPython/core/interactiveshell.py:2718: DtypeWarning: Columns (8) have mixed types.Specify dtype option on import or set low_memory=False.\n",
            "  interactivity=interactivity, compiler=compiler, result=result)\n",
            "/usr/local/lib/python3.7/dist-packages/IPython/core/interactiveshell.py:2718: DtypeWarning: Columns (55,113) have mixed types.Specify dtype option on import or set low_memory=False.\n",
            "  interactivity=interactivity, compiler=compiler, result=result)\n"
          ],
          "name": "stderr"
        }
      ]
    },
    {
      "cell_type": "markdown",
      "metadata": {
        "id": "RXEnqpXB_QD9"
      },
      "source": [
        "## **Detalhamento de datasets**\n"
      ]
    },
    {
      "cell_type": "code",
      "metadata": {
        "id": "BKkoMG7g_qz3"
      },
      "source": [
        "emlurb.head()"
      ],
      "execution_count": null,
      "outputs": []
    },
    {
      "cell_type": "code",
      "metadata": {
        "id": "oYWpsAuz_utl"
      },
      "source": [
        "dengue.head()"
      ],
      "execution_count": null,
      "outputs": []
    },
    {
      "cell_type": "markdown",
      "metadata": {
        "id": "PwbQXau6OnKH"
      },
      "source": [
        "## **Reorganização de Datasets e merge**"
      ]
    },
    {
      "cell_type": "markdown",
      "metadata": {
        "id": "v6srMQNY2zFU"
      },
      "source": [
        "Como o data frame com dados de dengue é muito robusto, usaremos apenas as colunas que nos interessam. E estas são: bairro e data de registro do caso. Agrupamos os casos por mês e totalizamos as ocorrências mensais. Outras análise podem ser interessantes, como agrupamento por bairro e por dia."
      ]
    },
    {
      "cell_type": "markdown",
      "metadata": {
        "id": "6wJH-198jv2Z"
      },
      "source": [
        " ## Dados de 2020\n"
      ]
    },
    {
      "cell_type": "code",
      "metadata": {
        "colab": {
          "base_uri": "https://localhost:8080/",
          "height": 368
        },
        "id": "V7iQmOamjzLK",
        "outputId": "d952aaf3-fc31-44f2-9194-590fcecc3ca3"
      },
      "source": [
        "# Utilizamos apenas as colunas de bairro e de data do registro do caso\n",
        "\n",
        "dengue_data = dengue[[\"no_bairro_residencia\", \"dt_notificacao\"]]\n",
        "dengue_data['dt_notificacao'] = pd.to_datetime(dengue_data['dt_notificacao'])\n",
        "\n",
        "# Número de casos por mês\n",
        "dengue_data = dengue_data.groupby([pd.Grouper(key=\"dt_notificacao\", freq=\"M\")]).size().reset_index(name=\"CASOS_DENGUE\")\n",
        "dengue_data = dengue_data.drop(dengue_data.index[[0]])\n",
        "\n",
        "# Número de casos por bairro\n",
        "# dengue_data.groupby(\"no_bairro_residencia\").size().sort_values(ascending=False).reset_index(name=\"CASOS_DENGUE\")\n",
        "\n",
        "# Número de casos por dia\n",
        "# dengue_data[\"dt_notificacao\"].value_counts().sort_values(ascending=False)\n",
        "\n",
        "display(dengue_data)"
      ],
      "execution_count": null,
      "outputs": [
        {
          "output_type": "stream",
          "text": [
            "/usr/local/lib/python3.7/dist-packages/ipykernel_launcher.py:4: SettingWithCopyWarning: \n",
            "A value is trying to be set on a copy of a slice from a DataFrame.\n",
            "Try using .loc[row_indexer,col_indexer] = value instead\n",
            "\n",
            "See the caveats in the documentation: https://pandas.pydata.org/pandas-docs/stable/user_guide/indexing.html#returning-a-view-versus-a-copy\n",
            "  after removing the cwd from sys.path.\n"
          ],
          "name": "stderr"
        },
        {
          "output_type": "display_data",
          "data": {
            "text/html": [
              "<div>\n",
              "<style scoped>\n",
              "    .dataframe tbody tr th:only-of-type {\n",
              "        vertical-align: middle;\n",
              "    }\n",
              "\n",
              "    .dataframe tbody tr th {\n",
              "        vertical-align: top;\n",
              "    }\n",
              "\n",
              "    .dataframe thead th {\n",
              "        text-align: right;\n",
              "    }\n",
              "</style>\n",
              "<table border=\"1\" class=\"dataframe\">\n",
              "  <thead>\n",
              "    <tr style=\"text-align: right;\">\n",
              "      <th></th>\n",
              "      <th>dt_notificacao</th>\n",
              "      <th>CASOS_DENGUE</th>\n",
              "    </tr>\n",
              "  </thead>\n",
              "  <tbody>\n",
              "    <tr>\n",
              "      <th>1</th>\n",
              "      <td>2020-01-31</td>\n",
              "      <td>195</td>\n",
              "    </tr>\n",
              "    <tr>\n",
              "      <th>2</th>\n",
              "      <td>2020-02-29</td>\n",
              "      <td>182</td>\n",
              "    </tr>\n",
              "    <tr>\n",
              "      <th>3</th>\n",
              "      <td>2020-03-31</td>\n",
              "      <td>199</td>\n",
              "    </tr>\n",
              "    <tr>\n",
              "      <th>4</th>\n",
              "      <td>2020-04-30</td>\n",
              "      <td>69</td>\n",
              "    </tr>\n",
              "    <tr>\n",
              "      <th>5</th>\n",
              "      <td>2020-05-31</td>\n",
              "      <td>47</td>\n",
              "    </tr>\n",
              "    <tr>\n",
              "      <th>6</th>\n",
              "      <td>2020-06-30</td>\n",
              "      <td>207</td>\n",
              "    </tr>\n",
              "    <tr>\n",
              "      <th>7</th>\n",
              "      <td>2020-07-31</td>\n",
              "      <td>109</td>\n",
              "    </tr>\n",
              "  </tbody>\n",
              "</table>\n",
              "</div>"
            ],
            "text/plain": [
              "  dt_notificacao  CASOS_DENGUE\n",
              "1     2020-01-31           195\n",
              "2     2020-02-29           182\n",
              "3     2020-03-31           199\n",
              "4     2020-04-30            69\n",
              "5     2020-05-31            47\n",
              "6     2020-06-30           207\n",
              "7     2020-07-31           109"
            ]
          },
          "metadata": {
            "tags": []
          }
        }
      ]
    },
    {
      "cell_type": "code",
      "metadata": {
        "colab": {
          "base_uri": "https://localhost:8080/",
          "height": 540
        },
        "id": "fBFhoKpyj_FO",
        "outputId": "e6130e54-165b-4f54-b1ee-758b5dbc6fad"
      },
      "source": [
        "# Utilizamos apenas as colunas de bairro, data de demanda e tipo de serviço\n",
        "\n",
        "emlurb_data = emlurb[[\"GRUPOSERVICO_DESCRICAO\", \"BAIRRO\", \"DATA_DEMANDA\"]]\n",
        "emlurb_data[\"DATA_DEMANDA\"] = pd.to_datetime(emlurb_data[\"DATA_DEMANDA\"])\n",
        "emlurb_data = emlurb_data[(emlurb_data.GRUPOSERVICO_DESCRICAO == \"DRENAGEM\")]\n",
        "\n",
        "print(\"Número de solicitações de drenagem registradas em 2020 = \" + str(len(emlurb_data.index)))\n",
        "\n",
        "# Número de solicitações por mês\n",
        "emlurb_data = emlurb_data.groupby([pd.Grouper(key=\"DATA_DEMANDA\", freq=\"M\")]).size().reset_index(name=\"CHAMADOS_EMLURB\")\n",
        "\n",
        "# Número de casos por bairro\n",
        "# emlurb_data.groupby(\"BAIRRO\").size().sort_values(ascending=False).reset_index(name=\"CASOS_DENGUE\")\n",
        "\n",
        "# Número de casos por dia\n",
        "# emlurb_data.groupby([pd.Grouper(key=\"DATA_DEMANDA\", freq=\"D\")]).size().sort_values(ascending=False).reset_index(name=\"CHAMADOS_EMLURB\")\n",
        "\n",
        "display(emlurb_data)"
      ],
      "execution_count": null,
      "outputs": [
        {
          "output_type": "stream",
          "text": [
            "Número de solicitações de drenagem registradas em 2020 = 8340\n"
          ],
          "name": "stdout"
        },
        {
          "output_type": "stream",
          "text": [
            "/usr/local/lib/python3.7/dist-packages/ipykernel_launcher.py:4: SettingWithCopyWarning: \n",
            "A value is trying to be set on a copy of a slice from a DataFrame.\n",
            "Try using .loc[row_indexer,col_indexer] = value instead\n",
            "\n",
            "See the caveats in the documentation: https://pandas.pydata.org/pandas-docs/stable/user_guide/indexing.html#returning-a-view-versus-a-copy\n",
            "  after removing the cwd from sys.path.\n"
          ],
          "name": "stderr"
        },
        {
          "output_type": "display_data",
          "data": {
            "text/html": [
              "<div>\n",
              "<style scoped>\n",
              "    .dataframe tbody tr th:only-of-type {\n",
              "        vertical-align: middle;\n",
              "    }\n",
              "\n",
              "    .dataframe tbody tr th {\n",
              "        vertical-align: top;\n",
              "    }\n",
              "\n",
              "    .dataframe thead th {\n",
              "        text-align: right;\n",
              "    }\n",
              "</style>\n",
              "<table border=\"1\" class=\"dataframe\">\n",
              "  <thead>\n",
              "    <tr style=\"text-align: right;\">\n",
              "      <th></th>\n",
              "      <th>DATA_DEMANDA</th>\n",
              "      <th>CHAMADOS_EMLURB</th>\n",
              "    </tr>\n",
              "  </thead>\n",
              "  <tbody>\n",
              "    <tr>\n",
              "      <th>0</th>\n",
              "      <td>2020-01-31</td>\n",
              "      <td>675</td>\n",
              "    </tr>\n",
              "    <tr>\n",
              "      <th>1</th>\n",
              "      <td>2020-02-29</td>\n",
              "      <td>694</td>\n",
              "    </tr>\n",
              "    <tr>\n",
              "      <th>2</th>\n",
              "      <td>2020-03-31</td>\n",
              "      <td>902</td>\n",
              "    </tr>\n",
              "    <tr>\n",
              "      <th>3</th>\n",
              "      <td>2020-04-30</td>\n",
              "      <td>443</td>\n",
              "    </tr>\n",
              "    <tr>\n",
              "      <th>4</th>\n",
              "      <td>2020-05-31</td>\n",
              "      <td>500</td>\n",
              "    </tr>\n",
              "    <tr>\n",
              "      <th>5</th>\n",
              "      <td>2020-06-30</td>\n",
              "      <td>633</td>\n",
              "    </tr>\n",
              "    <tr>\n",
              "      <th>6</th>\n",
              "      <td>2020-07-31</td>\n",
              "      <td>950</td>\n",
              "    </tr>\n",
              "    <tr>\n",
              "      <th>7</th>\n",
              "      <td>2020-08-31</td>\n",
              "      <td>830</td>\n",
              "    </tr>\n",
              "    <tr>\n",
              "      <th>8</th>\n",
              "      <td>2020-09-30</td>\n",
              "      <td>798</td>\n",
              "    </tr>\n",
              "    <tr>\n",
              "      <th>9</th>\n",
              "      <td>2020-10-31</td>\n",
              "      <td>745</td>\n",
              "    </tr>\n",
              "    <tr>\n",
              "      <th>10</th>\n",
              "      <td>2020-11-30</td>\n",
              "      <td>665</td>\n",
              "    </tr>\n",
              "    <tr>\n",
              "      <th>11</th>\n",
              "      <td>2020-12-31</td>\n",
              "      <td>505</td>\n",
              "    </tr>\n",
              "  </tbody>\n",
              "</table>\n",
              "</div>"
            ],
            "text/plain": [
              "   DATA_DEMANDA  CHAMADOS_EMLURB\n",
              "0    2020-01-31              675\n",
              "1    2020-02-29              694\n",
              "2    2020-03-31              902\n",
              "3    2020-04-30              443\n",
              "4    2020-05-31              500\n",
              "5    2020-06-30              633\n",
              "6    2020-07-31              950\n",
              "7    2020-08-31              830\n",
              "8    2020-09-30              798\n",
              "9    2020-10-31              745\n",
              "10   2020-11-30              665\n",
              "11   2020-12-31              505"
            ]
          },
          "metadata": {
            "tags": []
          }
        }
      ]
    },
    {
      "cell_type": "markdown",
      "metadata": {
        "id": "dT-QEfwuFhGq"
      },
      "source": [
        "Agora que temos duas tabelas, **dengue_data**, com informação dos casos de dengue por mês, e **emlurb_data**, com informação dos pedidos de drenagem solicitados pela população por mês, faremos o merge das duas tabelas para unificar todos esses dados.\n"
      ]
    },
    {
      "cell_type": "code",
      "metadata": {
        "id": "K-AxnU0-KfFX",
        "colab": {
          "base_uri": "https://localhost:8080/",
          "height": 266
        },
        "outputId": "3d276ce4-4ee1-447b-e46a-a69af633b356"
      },
      "source": [
        "crossed_info = pd.merge(dengue_data, emlurb_data, left_on=[\"dt_notificacao\"],right_on=[\"DATA_DEMANDA\"])\n",
        "\n",
        "display(crossed_info)"
      ],
      "execution_count": null,
      "outputs": [
        {
          "output_type": "display_data",
          "data": {
            "text/html": [
              "<div>\n",
              "<style scoped>\n",
              "    .dataframe tbody tr th:only-of-type {\n",
              "        vertical-align: middle;\n",
              "    }\n",
              "\n",
              "    .dataframe tbody tr th {\n",
              "        vertical-align: top;\n",
              "    }\n",
              "\n",
              "    .dataframe thead th {\n",
              "        text-align: right;\n",
              "    }\n",
              "</style>\n",
              "<table border=\"1\" class=\"dataframe\">\n",
              "  <thead>\n",
              "    <tr style=\"text-align: right;\">\n",
              "      <th></th>\n",
              "      <th>dt_notificacao</th>\n",
              "      <th>CASOS_DENGUE</th>\n",
              "      <th>DATA_DEMANDA</th>\n",
              "      <th>CHAMADOS_EMLURB</th>\n",
              "    </tr>\n",
              "  </thead>\n",
              "  <tbody>\n",
              "    <tr>\n",
              "      <th>0</th>\n",
              "      <td>2020-01-31</td>\n",
              "      <td>195</td>\n",
              "      <td>2020-01-31</td>\n",
              "      <td>675</td>\n",
              "    </tr>\n",
              "    <tr>\n",
              "      <th>1</th>\n",
              "      <td>2020-02-29</td>\n",
              "      <td>182</td>\n",
              "      <td>2020-02-29</td>\n",
              "      <td>694</td>\n",
              "    </tr>\n",
              "    <tr>\n",
              "      <th>2</th>\n",
              "      <td>2020-03-31</td>\n",
              "      <td>199</td>\n",
              "      <td>2020-03-31</td>\n",
              "      <td>902</td>\n",
              "    </tr>\n",
              "    <tr>\n",
              "      <th>3</th>\n",
              "      <td>2020-04-30</td>\n",
              "      <td>69</td>\n",
              "      <td>2020-04-30</td>\n",
              "      <td>443</td>\n",
              "    </tr>\n",
              "    <tr>\n",
              "      <th>4</th>\n",
              "      <td>2020-05-31</td>\n",
              "      <td>47</td>\n",
              "      <td>2020-05-31</td>\n",
              "      <td>500</td>\n",
              "    </tr>\n",
              "    <tr>\n",
              "      <th>5</th>\n",
              "      <td>2020-06-30</td>\n",
              "      <td>207</td>\n",
              "      <td>2020-06-30</td>\n",
              "      <td>633</td>\n",
              "    </tr>\n",
              "    <tr>\n",
              "      <th>6</th>\n",
              "      <td>2020-07-31</td>\n",
              "      <td>109</td>\n",
              "      <td>2020-07-31</td>\n",
              "      <td>950</td>\n",
              "    </tr>\n",
              "  </tbody>\n",
              "</table>\n",
              "</div>"
            ],
            "text/plain": [
              "  dt_notificacao  CASOS_DENGUE DATA_DEMANDA  CHAMADOS_EMLURB\n",
              "0     2020-01-31           195   2020-01-31              675\n",
              "1     2020-02-29           182   2020-02-29              694\n",
              "2     2020-03-31           199   2020-03-31              902\n",
              "3     2020-04-30            69   2020-04-30              443\n",
              "4     2020-05-31            47   2020-05-31              500\n",
              "5     2020-06-30           207   2020-06-30              633\n",
              "6     2020-07-31           109   2020-07-31              950"
            ]
          },
          "metadata": {
            "tags": []
          }
        }
      ]
    },
    {
      "cell_type": "markdown",
      "metadata": {
        "id": "jYehdeRdGBtp"
      },
      "source": [
        "Com a tabela **crossed_info**, conseguimos reunir o número de casos de dengue e o número de chamados de drenagem por mês no grande Recife. Ainda podemos cruzar as informações com outros parâmetros como bairro, diária, status de solicitação etc."
      ]
    },
    {
      "cell_type": "markdown",
      "metadata": {
        "id": "eIomzXQIQkgW"
      },
      "source": [
        "## Dados de 2019 - 2016\n",
        "\n",
        "\n",
        "Iremos fazer os mesmos tratamentos anteriores para os dados de 2019 até 2016."
      ]
    },
    {
      "cell_type": "code",
      "metadata": {
        "id": "30I8GCQLQn_S",
        "colab": {
          "base_uri": "https://localhost:8080/",
          "height": 1000
        },
        "outputId": "74c4bd34-f2fb-4ff4-d2c9-0699b282828a"
      },
      "source": [
        "# Utilizamos apenas as colunas de bairro e de data do registro do caso\n",
        "\n",
        "dengue_data19 = dengue19[[\"no_bairro_residencia\", \"dt_notificacao\"]]\n",
        "dengue_data19['dt_notificacao'] = pd.to_datetime(dengue_data19['dt_notificacao'])\n",
        "\n",
        "dengue_data18 = dengue18[[\"no_bairro_residencia\", \"dt_notificacao\"]]\n",
        "dengue_data18['dt_notificacao'] = pd.to_datetime(dengue_data18['dt_notificacao'])\n",
        "\n",
        "dengue_data17 = dengue17[[\"no_bairro_residencia\", \"dt_notificacao\"]]\n",
        "dengue_data17['dt_notificacao'] = pd.to_datetime(dengue_data17['dt_notificacao'])\n",
        "\n",
        "dengue_data16 = dengue16[[\"no_bairro_residencia\", \"dt_notificacao\"]]\n",
        "dengue_data16['dt_notificacao'] = pd.to_datetime(dengue_data16['dt_notificacao'])\n",
        "\n",
        "# Número de casos por mês\n",
        "dengue_data19 = dengue_data19.groupby([pd.Grouper(key=\"dt_notificacao\", freq=\"M\")]).size().reset_index(name=\"CASOS_DENGUE\")\n",
        "dengue_data19 = dengue_data19.drop(dengue_data19.index[[12,13]])\n",
        "\n",
        "dengue_data18 = dengue_data18.groupby([pd.Grouper(key=\"dt_notificacao\", freq=\"M\")]).size().reset_index(name=\"CASOS_DENGUE\")\n",
        "dengue_data18 = dengue_data18.drop(index=[12,13,14,15,16,17,18,19,20,21,22,23,24,25])\n",
        "\n",
        "\n",
        "dengue_data17 = dengue_data17.groupby([pd.Grouper(key=\"dt_notificacao\", freq=\"M\")]).size().reset_index(name=\"CASOS_DENGUE\")\n",
        "dengue_data17 = dengue_data17.drop(index=[12,13,14,15,16,17,18,19,20,21,22,23,24,25,26,27,28,29,30])\n",
        "\n",
        "dengue_data16 = dengue_data16.groupby([pd.Grouper(key=\"dt_notificacao\", freq=\"M\")]).size().reset_index(name=\"CASOS_DENGUE\")\n",
        "dengue_data16 = dengue_data16.drop(index=[12,13,14,15,16,17,18,19,20,21,22,23,24,25,26,27])\n",
        "\n",
        "display(dengue_data19)\n",
        "display(dengue_data18)\n",
        "display(dengue_data17)\n",
        "display(dengue_data16)"
      ],
      "execution_count": null,
      "outputs": [
        {
          "output_type": "stream",
          "text": [
            "/usr/local/lib/python3.7/dist-packages/ipykernel_launcher.py:4: SettingWithCopyWarning: \n",
            "A value is trying to be set on a copy of a slice from a DataFrame.\n",
            "Try using .loc[row_indexer,col_indexer] = value instead\n",
            "\n",
            "See the caveats in the documentation: https://pandas.pydata.org/pandas-docs/stable/user_guide/indexing.html#returning-a-view-versus-a-copy\n",
            "  after removing the cwd from sys.path.\n",
            "/usr/local/lib/python3.7/dist-packages/ipykernel_launcher.py:7: SettingWithCopyWarning: \n",
            "A value is trying to be set on a copy of a slice from a DataFrame.\n",
            "Try using .loc[row_indexer,col_indexer] = value instead\n",
            "\n",
            "See the caveats in the documentation: https://pandas.pydata.org/pandas-docs/stable/user_guide/indexing.html#returning-a-view-versus-a-copy\n",
            "  import sys\n",
            "/usr/local/lib/python3.7/dist-packages/ipykernel_launcher.py:10: SettingWithCopyWarning: \n",
            "A value is trying to be set on a copy of a slice from a DataFrame.\n",
            "Try using .loc[row_indexer,col_indexer] = value instead\n",
            "\n",
            "See the caveats in the documentation: https://pandas.pydata.org/pandas-docs/stable/user_guide/indexing.html#returning-a-view-versus-a-copy\n",
            "  # Remove the CWD from sys.path while we load stuff.\n",
            "/usr/local/lib/python3.7/dist-packages/ipykernel_launcher.py:13: SettingWithCopyWarning: \n",
            "A value is trying to be set on a copy of a slice from a DataFrame.\n",
            "Try using .loc[row_indexer,col_indexer] = value instead\n",
            "\n",
            "See the caveats in the documentation: https://pandas.pydata.org/pandas-docs/stable/user_guide/indexing.html#returning-a-view-versus-a-copy\n",
            "  del sys.path[0]\n"
          ],
          "name": "stderr"
        },
        {
          "output_type": "display_data",
          "data": {
            "text/html": [
              "<div>\n",
              "<style scoped>\n",
              "    .dataframe tbody tr th:only-of-type {\n",
              "        vertical-align: middle;\n",
              "    }\n",
              "\n",
              "    .dataframe tbody tr th {\n",
              "        vertical-align: top;\n",
              "    }\n",
              "\n",
              "    .dataframe thead th {\n",
              "        text-align: right;\n",
              "    }\n",
              "</style>\n",
              "<table border=\"1\" class=\"dataframe\">\n",
              "  <thead>\n",
              "    <tr style=\"text-align: right;\">\n",
              "      <th></th>\n",
              "      <th>dt_notificacao</th>\n",
              "      <th>CASOS_DENGUE</th>\n",
              "    </tr>\n",
              "  </thead>\n",
              "  <tbody>\n",
              "    <tr>\n",
              "      <th>0</th>\n",
              "      <td>2019-01-31</td>\n",
              "      <td>91</td>\n",
              "    </tr>\n",
              "    <tr>\n",
              "      <th>1</th>\n",
              "      <td>2019-02-28</td>\n",
              "      <td>178</td>\n",
              "    </tr>\n",
              "    <tr>\n",
              "      <th>2</th>\n",
              "      <td>2019-03-31</td>\n",
              "      <td>263</td>\n",
              "    </tr>\n",
              "    <tr>\n",
              "      <th>3</th>\n",
              "      <td>2019-04-30</td>\n",
              "      <td>485</td>\n",
              "    </tr>\n",
              "    <tr>\n",
              "      <th>4</th>\n",
              "      <td>2019-05-31</td>\n",
              "      <td>972</td>\n",
              "    </tr>\n",
              "    <tr>\n",
              "      <th>5</th>\n",
              "      <td>2019-06-30</td>\n",
              "      <td>704</td>\n",
              "    </tr>\n",
              "    <tr>\n",
              "      <th>6</th>\n",
              "      <td>2019-07-31</td>\n",
              "      <td>1004</td>\n",
              "    </tr>\n",
              "    <tr>\n",
              "      <th>7</th>\n",
              "      <td>2019-08-31</td>\n",
              "      <td>868</td>\n",
              "    </tr>\n",
              "    <tr>\n",
              "      <th>8</th>\n",
              "      <td>2019-09-30</td>\n",
              "      <td>966</td>\n",
              "    </tr>\n",
              "    <tr>\n",
              "      <th>9</th>\n",
              "      <td>2019-10-31</td>\n",
              "      <td>882</td>\n",
              "    </tr>\n",
              "    <tr>\n",
              "      <th>10</th>\n",
              "      <td>2019-11-30</td>\n",
              "      <td>602</td>\n",
              "    </tr>\n",
              "    <tr>\n",
              "      <th>11</th>\n",
              "      <td>2019-12-31</td>\n",
              "      <td>262</td>\n",
              "    </tr>\n",
              "  </tbody>\n",
              "</table>\n",
              "</div>"
            ],
            "text/plain": [
              "   dt_notificacao  CASOS_DENGUE\n",
              "0      2019-01-31            91\n",
              "1      2019-02-28           178\n",
              "2      2019-03-31           263\n",
              "3      2019-04-30           485\n",
              "4      2019-05-31           972\n",
              "5      2019-06-30           704\n",
              "6      2019-07-31          1004\n",
              "7      2019-08-31           868\n",
              "8      2019-09-30           966\n",
              "9      2019-10-31           882\n",
              "10     2019-11-30           602\n",
              "11     2019-12-31           262"
            ]
          },
          "metadata": {
            "tags": []
          }
        },
        {
          "output_type": "display_data",
          "data": {
            "text/html": [
              "<div>\n",
              "<style scoped>\n",
              "    .dataframe tbody tr th:only-of-type {\n",
              "        vertical-align: middle;\n",
              "    }\n",
              "\n",
              "    .dataframe tbody tr th {\n",
              "        vertical-align: top;\n",
              "    }\n",
              "\n",
              "    .dataframe thead th {\n",
              "        text-align: right;\n",
              "    }\n",
              "</style>\n",
              "<table border=\"1\" class=\"dataframe\">\n",
              "  <thead>\n",
              "    <tr style=\"text-align: right;\">\n",
              "      <th></th>\n",
              "      <th>dt_notificacao</th>\n",
              "      <th>CASOS_DENGUE</th>\n",
              "    </tr>\n",
              "  </thead>\n",
              "  <tbody>\n",
              "    <tr>\n",
              "      <th>0</th>\n",
              "      <td>2018-01-31</td>\n",
              "      <td>73</td>\n",
              "    </tr>\n",
              "    <tr>\n",
              "      <th>1</th>\n",
              "      <td>2018-02-28</td>\n",
              "      <td>130</td>\n",
              "    </tr>\n",
              "    <tr>\n",
              "      <th>2</th>\n",
              "      <td>2018-03-31</td>\n",
              "      <td>151</td>\n",
              "    </tr>\n",
              "    <tr>\n",
              "      <th>3</th>\n",
              "      <td>2018-04-30</td>\n",
              "      <td>344</td>\n",
              "    </tr>\n",
              "    <tr>\n",
              "      <th>4</th>\n",
              "      <td>2018-05-31</td>\n",
              "      <td>419</td>\n",
              "    </tr>\n",
              "    <tr>\n",
              "      <th>5</th>\n",
              "      <td>2018-06-30</td>\n",
              "      <td>311</td>\n",
              "    </tr>\n",
              "    <tr>\n",
              "      <th>6</th>\n",
              "      <td>2018-07-31</td>\n",
              "      <td>263</td>\n",
              "    </tr>\n",
              "    <tr>\n",
              "      <th>7</th>\n",
              "      <td>2018-08-31</td>\n",
              "      <td>241</td>\n",
              "    </tr>\n",
              "    <tr>\n",
              "      <th>8</th>\n",
              "      <td>2018-09-30</td>\n",
              "      <td>166</td>\n",
              "    </tr>\n",
              "    <tr>\n",
              "      <th>9</th>\n",
              "      <td>2018-10-31</td>\n",
              "      <td>198</td>\n",
              "    </tr>\n",
              "    <tr>\n",
              "      <th>10</th>\n",
              "      <td>2018-11-30</td>\n",
              "      <td>172</td>\n",
              "    </tr>\n",
              "    <tr>\n",
              "      <th>11</th>\n",
              "      <td>2018-12-31</td>\n",
              "      <td>138</td>\n",
              "    </tr>\n",
              "  </tbody>\n",
              "</table>\n",
              "</div>"
            ],
            "text/plain": [
              "   dt_notificacao  CASOS_DENGUE\n",
              "0      2018-01-31            73\n",
              "1      2018-02-28           130\n",
              "2      2018-03-31           151\n",
              "3      2018-04-30           344\n",
              "4      2018-05-31           419\n",
              "5      2018-06-30           311\n",
              "6      2018-07-31           263\n",
              "7      2018-08-31           241\n",
              "8      2018-09-30           166\n",
              "9      2018-10-31           198\n",
              "10     2018-11-30           172\n",
              "11     2018-12-31           138"
            ]
          },
          "metadata": {
            "tags": []
          }
        },
        {
          "output_type": "display_data",
          "data": {
            "text/html": [
              "<div>\n",
              "<style scoped>\n",
              "    .dataframe tbody tr th:only-of-type {\n",
              "        vertical-align: middle;\n",
              "    }\n",
              "\n",
              "    .dataframe tbody tr th {\n",
              "        vertical-align: top;\n",
              "    }\n",
              "\n",
              "    .dataframe thead th {\n",
              "        text-align: right;\n",
              "    }\n",
              "</style>\n",
              "<table border=\"1\" class=\"dataframe\">\n",
              "  <thead>\n",
              "    <tr style=\"text-align: right;\">\n",
              "      <th></th>\n",
              "      <th>dt_notificacao</th>\n",
              "      <th>CASOS_DENGUE</th>\n",
              "    </tr>\n",
              "  </thead>\n",
              "  <tbody>\n",
              "    <tr>\n",
              "      <th>0</th>\n",
              "      <td>2017-01-31</td>\n",
              "      <td>169</td>\n",
              "    </tr>\n",
              "    <tr>\n",
              "      <th>1</th>\n",
              "      <td>2017-02-28</td>\n",
              "      <td>230</td>\n",
              "    </tr>\n",
              "    <tr>\n",
              "      <th>2</th>\n",
              "      <td>2017-03-31</td>\n",
              "      <td>333</td>\n",
              "    </tr>\n",
              "    <tr>\n",
              "      <th>3</th>\n",
              "      <td>2017-04-30</td>\n",
              "      <td>213</td>\n",
              "    </tr>\n",
              "    <tr>\n",
              "      <th>4</th>\n",
              "      <td>2017-05-31</td>\n",
              "      <td>273</td>\n",
              "    </tr>\n",
              "    <tr>\n",
              "      <th>5</th>\n",
              "      <td>2017-06-30</td>\n",
              "      <td>279</td>\n",
              "    </tr>\n",
              "    <tr>\n",
              "      <th>6</th>\n",
              "      <td>2017-07-31</td>\n",
              "      <td>115</td>\n",
              "    </tr>\n",
              "    <tr>\n",
              "      <th>7</th>\n",
              "      <td>2017-08-31</td>\n",
              "      <td>196</td>\n",
              "    </tr>\n",
              "    <tr>\n",
              "      <th>8</th>\n",
              "      <td>2017-09-30</td>\n",
              "      <td>190</td>\n",
              "    </tr>\n",
              "    <tr>\n",
              "      <th>9</th>\n",
              "      <td>2017-10-31</td>\n",
              "      <td>183</td>\n",
              "    </tr>\n",
              "    <tr>\n",
              "      <th>10</th>\n",
              "      <td>2017-11-30</td>\n",
              "      <td>123</td>\n",
              "    </tr>\n",
              "    <tr>\n",
              "      <th>11</th>\n",
              "      <td>2017-12-31</td>\n",
              "      <td>111</td>\n",
              "    </tr>\n",
              "  </tbody>\n",
              "</table>\n",
              "</div>"
            ],
            "text/plain": [
              "   dt_notificacao  CASOS_DENGUE\n",
              "0      2017-01-31           169\n",
              "1      2017-02-28           230\n",
              "2      2017-03-31           333\n",
              "3      2017-04-30           213\n",
              "4      2017-05-31           273\n",
              "5      2017-06-30           279\n",
              "6      2017-07-31           115\n",
              "7      2017-08-31           196\n",
              "8      2017-09-30           190\n",
              "9      2017-10-31           183\n",
              "10     2017-11-30           123\n",
              "11     2017-12-31           111"
            ]
          },
          "metadata": {
            "tags": []
          }
        },
        {
          "output_type": "display_data",
          "data": {
            "text/html": [
              "<div>\n",
              "<style scoped>\n",
              "    .dataframe tbody tr th:only-of-type {\n",
              "        vertical-align: middle;\n",
              "    }\n",
              "\n",
              "    .dataframe tbody tr th {\n",
              "        vertical-align: top;\n",
              "    }\n",
              "\n",
              "    .dataframe thead th {\n",
              "        text-align: right;\n",
              "    }\n",
              "</style>\n",
              "<table border=\"1\" class=\"dataframe\">\n",
              "  <thead>\n",
              "    <tr style=\"text-align: right;\">\n",
              "      <th></th>\n",
              "      <th>dt_notificacao</th>\n",
              "      <th>CASOS_DENGUE</th>\n",
              "    </tr>\n",
              "  </thead>\n",
              "  <tbody>\n",
              "    <tr>\n",
              "      <th>0</th>\n",
              "      <td>2016-01-31</td>\n",
              "      <td>3113</td>\n",
              "    </tr>\n",
              "    <tr>\n",
              "      <th>1</th>\n",
              "      <td>2016-02-29</td>\n",
              "      <td>5540</td>\n",
              "    </tr>\n",
              "    <tr>\n",
              "      <th>2</th>\n",
              "      <td>2016-03-31</td>\n",
              "      <td>3746</td>\n",
              "    </tr>\n",
              "    <tr>\n",
              "      <th>3</th>\n",
              "      <td>2016-04-30</td>\n",
              "      <td>2069</td>\n",
              "    </tr>\n",
              "    <tr>\n",
              "      <th>4</th>\n",
              "      <td>2016-05-31</td>\n",
              "      <td>1474</td>\n",
              "    </tr>\n",
              "    <tr>\n",
              "      <th>5</th>\n",
              "      <td>2016-06-30</td>\n",
              "      <td>834</td>\n",
              "    </tr>\n",
              "    <tr>\n",
              "      <th>6</th>\n",
              "      <td>2016-07-31</td>\n",
              "      <td>464</td>\n",
              "    </tr>\n",
              "    <tr>\n",
              "      <th>7</th>\n",
              "      <td>2016-08-31</td>\n",
              "      <td>394</td>\n",
              "    </tr>\n",
              "    <tr>\n",
              "      <th>8</th>\n",
              "      <td>2016-09-30</td>\n",
              "      <td>296</td>\n",
              "    </tr>\n",
              "    <tr>\n",
              "      <th>9</th>\n",
              "      <td>2016-10-31</td>\n",
              "      <td>258</td>\n",
              "    </tr>\n",
              "    <tr>\n",
              "      <th>10</th>\n",
              "      <td>2016-11-30</td>\n",
              "      <td>178</td>\n",
              "    </tr>\n",
              "    <tr>\n",
              "      <th>11</th>\n",
              "      <td>2016-12-31</td>\n",
              "      <td>172</td>\n",
              "    </tr>\n",
              "  </tbody>\n",
              "</table>\n",
              "</div>"
            ],
            "text/plain": [
              "   dt_notificacao  CASOS_DENGUE\n",
              "0      2016-01-31          3113\n",
              "1      2016-02-29          5540\n",
              "2      2016-03-31          3746\n",
              "3      2016-04-30          2069\n",
              "4      2016-05-31          1474\n",
              "5      2016-06-30           834\n",
              "6      2016-07-31           464\n",
              "7      2016-08-31           394\n",
              "8      2016-09-30           296\n",
              "9      2016-10-31           258\n",
              "10     2016-11-30           178\n",
              "11     2016-12-31           172"
            ]
          },
          "metadata": {
            "tags": []
          }
        }
      ]
    },
    {
      "cell_type": "code",
      "metadata": {
        "id": "F7cn4tzVQuIX",
        "colab": {
          "base_uri": "https://localhost:8080/",
          "height": 1000
        },
        "outputId": "407ef7db-d737-45fd-c93f-63dd9c1f03bb"
      },
      "source": [
        "# Utilizamos apenas as colunas de bairro, data de demanda e tipo de serviço\n",
        "\n",
        "emlurb_data19 = emlurb19[[\"GRUPOSERVICO_DESCRICAO\", \"BAIRRO\", \"DATA_DEMANDA\", \"SITUACAO\"]]\n",
        "# emlurb_data19 = emlurb_data19[emlurb_data19[\"SITUACAO\"] != \"ATENDIDA\"]\n",
        "emlurb_data19[\"DATA_DEMANDA\"] = pd.to_datetime(emlurb_data19[\"DATA_DEMANDA\"])\n",
        "emlurb_data19 = emlurb_data19[(emlurb_data19.GRUPOSERVICO_DESCRICAO == \"DRENAGEM\")]\n",
        "\n",
        "emlurb_data18 = emlurb18[[\"GRUPOSERVICO_DESCRICAO\", \"BAIRRO\", \"DATA_DEMANDA\", \"SITUACAO\"]]\n",
        "# emlurb_data18 = emlurb_data18[emlurb_data18[\"SITUACAO\"] != \"ATENDIDA\"]\n",
        "emlurb_data18[\"DATA_DEMANDA\"] = pd.to_datetime(emlurb_data18[\"DATA_DEMANDA\"])\n",
        "emlurb_data18 = emlurb_data18[(emlurb_data18.GRUPOSERVICO_DESCRICAO == \"DRENAGEM\")]\n",
        "\n",
        "emlurb_data17 = emlurb17[[\"GRUPOSERVICO_DESCRICAO\", \"BAIRRO\", \"DATA_DEMANDA\", \"SITUACAO\"]]\n",
        "# emlurb_data17 = emlurb_data17[emlurb_data17[\"SITUACAO\"] != \"ATENDIDA\"]\n",
        "emlurb_data17 = emlurb_data17[(emlurb_data17.GRUPOSERVICO_DESCRICAO == \"DRENAGEM\")]\n",
        "emlurb_data17[\"DATA_DEMANDA\"] = pd.to_datetime(emlurb_data17[\"DATA_DEMANDA\"])\n",
        "\n",
        "emlurb_data16 = emlurb16[[\"GRUPOSERVICO_DESCRICAO\", \"BAIRRO\", \"DATA_DEMANDA\", \"SITUACAO\"]]\n",
        "# emlurb_data16 = emlurb_data16[emlurb_data16[\"SITUACAO\"] != \"ATENDIDA\"]\n",
        "emlurb_data16[\"DATA_DEMANDA\"] = pd.to_datetime(emlurb_data16[\"DATA_DEMANDA\"])\n",
        "emlurb_data16 = emlurb_data16[(emlurb_data16.GRUPOSERVICO_DESCRICAO == \"DRENAGEM\")]\n",
        "\n",
        "# # Número de solicitações por mês\n",
        "emlurb_data19 = emlurb_data19.groupby([pd.Grouper(key=\"DATA_DEMANDA\", freq=\"M\")]).size().reset_index(name=\"CHAMADOS_EMLURB\")\n",
        "emlurb_data18 = emlurb_data18.groupby([pd.Grouper(key=\"DATA_DEMANDA\", freq=\"M\")]).size().reset_index(name=\"CHAMADOS_EMLURB\")\n",
        "emlurb_data17 = emlurb_data17.groupby([pd.Grouper(key=\"DATA_DEMANDA\", freq=\"M\")]).size().reset_index(name=\"CHAMADOS_EMLURB\")\n",
        "emlurb_data16 = emlurb_data16.groupby([pd.Grouper(key=\"DATA_DEMANDA\", freq=\"M\")]).size().reset_index(name=\"CHAMADOS_EMLURB\")\n",
        "\n",
        "display(emlurb_data19)\n",
        "display(emlurb_data18)\n",
        "display(emlurb_data17)\n",
        "display(emlurb_data16)"
      ],
      "execution_count": null,
      "outputs": [
        {
          "output_type": "stream",
          "text": [
            "/usr/local/lib/python3.7/dist-packages/ipykernel_launcher.py:5: SettingWithCopyWarning: \n",
            "A value is trying to be set on a copy of a slice from a DataFrame.\n",
            "Try using .loc[row_indexer,col_indexer] = value instead\n",
            "\n",
            "See the caveats in the documentation: https://pandas.pydata.org/pandas-docs/stable/user_guide/indexing.html#returning-a-view-versus-a-copy\n",
            "  \"\"\"\n",
            "/usr/local/lib/python3.7/dist-packages/ipykernel_launcher.py:10: SettingWithCopyWarning: \n",
            "A value is trying to be set on a copy of a slice from a DataFrame.\n",
            "Try using .loc[row_indexer,col_indexer] = value instead\n",
            "\n",
            "See the caveats in the documentation: https://pandas.pydata.org/pandas-docs/stable/user_guide/indexing.html#returning-a-view-versus-a-copy\n",
            "  # Remove the CWD from sys.path while we load stuff.\n",
            "/usr/local/lib/python3.7/dist-packages/ipykernel_launcher.py:20: SettingWithCopyWarning: \n",
            "A value is trying to be set on a copy of a slice from a DataFrame.\n",
            "Try using .loc[row_indexer,col_indexer] = value instead\n",
            "\n",
            "See the caveats in the documentation: https://pandas.pydata.org/pandas-docs/stable/user_guide/indexing.html#returning-a-view-versus-a-copy\n"
          ],
          "name": "stderr"
        },
        {
          "output_type": "display_data",
          "data": {
            "text/html": [
              "<div>\n",
              "<style scoped>\n",
              "    .dataframe tbody tr th:only-of-type {\n",
              "        vertical-align: middle;\n",
              "    }\n",
              "\n",
              "    .dataframe tbody tr th {\n",
              "        vertical-align: top;\n",
              "    }\n",
              "\n",
              "    .dataframe thead th {\n",
              "        text-align: right;\n",
              "    }\n",
              "</style>\n",
              "<table border=\"1\" class=\"dataframe\">\n",
              "  <thead>\n",
              "    <tr style=\"text-align: right;\">\n",
              "      <th></th>\n",
              "      <th>DATA_DEMANDA</th>\n",
              "      <th>CHAMADOS_EMLURB</th>\n",
              "    </tr>\n",
              "  </thead>\n",
              "  <tbody>\n",
              "    <tr>\n",
              "      <th>0</th>\n",
              "      <td>2019-01-31</td>\n",
              "      <td>664</td>\n",
              "    </tr>\n",
              "    <tr>\n",
              "      <th>1</th>\n",
              "      <td>2019-02-28</td>\n",
              "      <td>950</td>\n",
              "    </tr>\n",
              "    <tr>\n",
              "      <th>2</th>\n",
              "      <td>2019-03-31</td>\n",
              "      <td>740</td>\n",
              "    </tr>\n",
              "    <tr>\n",
              "      <th>3</th>\n",
              "      <td>2019-04-30</td>\n",
              "      <td>1052</td>\n",
              "    </tr>\n",
              "    <tr>\n",
              "      <th>4</th>\n",
              "      <td>2019-05-31</td>\n",
              "      <td>1132</td>\n",
              "    </tr>\n",
              "    <tr>\n",
              "      <th>5</th>\n",
              "      <td>2019-06-30</td>\n",
              "      <td>933</td>\n",
              "    </tr>\n",
              "    <tr>\n",
              "      <th>6</th>\n",
              "      <td>2019-07-31</td>\n",
              "      <td>1018</td>\n",
              "    </tr>\n",
              "    <tr>\n",
              "      <th>7</th>\n",
              "      <td>2019-08-31</td>\n",
              "      <td>928</td>\n",
              "    </tr>\n",
              "    <tr>\n",
              "      <th>8</th>\n",
              "      <td>2019-09-30</td>\n",
              "      <td>884</td>\n",
              "    </tr>\n",
              "    <tr>\n",
              "      <th>9</th>\n",
              "      <td>2019-10-31</td>\n",
              "      <td>1049</td>\n",
              "    </tr>\n",
              "    <tr>\n",
              "      <th>10</th>\n",
              "      <td>2019-11-30</td>\n",
              "      <td>735</td>\n",
              "    </tr>\n",
              "    <tr>\n",
              "      <th>11</th>\n",
              "      <td>2019-12-31</td>\n",
              "      <td>568</td>\n",
              "    </tr>\n",
              "  </tbody>\n",
              "</table>\n",
              "</div>"
            ],
            "text/plain": [
              "   DATA_DEMANDA  CHAMADOS_EMLURB\n",
              "0    2019-01-31              664\n",
              "1    2019-02-28              950\n",
              "2    2019-03-31              740\n",
              "3    2019-04-30             1052\n",
              "4    2019-05-31             1132\n",
              "5    2019-06-30              933\n",
              "6    2019-07-31             1018\n",
              "7    2019-08-31              928\n",
              "8    2019-09-30              884\n",
              "9    2019-10-31             1049\n",
              "10   2019-11-30              735\n",
              "11   2019-12-31              568"
            ]
          },
          "metadata": {
            "tags": []
          }
        },
        {
          "output_type": "display_data",
          "data": {
            "text/html": [
              "<div>\n",
              "<style scoped>\n",
              "    .dataframe tbody tr th:only-of-type {\n",
              "        vertical-align: middle;\n",
              "    }\n",
              "\n",
              "    .dataframe tbody tr th {\n",
              "        vertical-align: top;\n",
              "    }\n",
              "\n",
              "    .dataframe thead th {\n",
              "        text-align: right;\n",
              "    }\n",
              "</style>\n",
              "<table border=\"1\" class=\"dataframe\">\n",
              "  <thead>\n",
              "    <tr style=\"text-align: right;\">\n",
              "      <th></th>\n",
              "      <th>DATA_DEMANDA</th>\n",
              "      <th>CHAMADOS_EMLURB</th>\n",
              "    </tr>\n",
              "  </thead>\n",
              "  <tbody>\n",
              "    <tr>\n",
              "      <th>0</th>\n",
              "      <td>2018-01-31</td>\n",
              "      <td>727</td>\n",
              "    </tr>\n",
              "    <tr>\n",
              "      <th>1</th>\n",
              "      <td>2018-02-28</td>\n",
              "      <td>894</td>\n",
              "    </tr>\n",
              "    <tr>\n",
              "      <th>2</th>\n",
              "      <td>2018-03-31</td>\n",
              "      <td>1052</td>\n",
              "    </tr>\n",
              "    <tr>\n",
              "      <th>3</th>\n",
              "      <td>2018-04-30</td>\n",
              "      <td>1245</td>\n",
              "    </tr>\n",
              "    <tr>\n",
              "      <th>4</th>\n",
              "      <td>2018-05-31</td>\n",
              "      <td>980</td>\n",
              "    </tr>\n",
              "    <tr>\n",
              "      <th>5</th>\n",
              "      <td>2018-06-30</td>\n",
              "      <td>844</td>\n",
              "    </tr>\n",
              "    <tr>\n",
              "      <th>6</th>\n",
              "      <td>2018-07-31</td>\n",
              "      <td>811</td>\n",
              "    </tr>\n",
              "    <tr>\n",
              "      <th>7</th>\n",
              "      <td>2018-08-31</td>\n",
              "      <td>834</td>\n",
              "    </tr>\n",
              "    <tr>\n",
              "      <th>8</th>\n",
              "      <td>2018-09-30</td>\n",
              "      <td>732</td>\n",
              "    </tr>\n",
              "    <tr>\n",
              "      <th>9</th>\n",
              "      <td>2018-10-31</td>\n",
              "      <td>605</td>\n",
              "    </tr>\n",
              "    <tr>\n",
              "      <th>10</th>\n",
              "      <td>2018-11-30</td>\n",
              "      <td>651</td>\n",
              "    </tr>\n",
              "    <tr>\n",
              "      <th>11</th>\n",
              "      <td>2018-12-31</td>\n",
              "      <td>544</td>\n",
              "    </tr>\n",
              "  </tbody>\n",
              "</table>\n",
              "</div>"
            ],
            "text/plain": [
              "   DATA_DEMANDA  CHAMADOS_EMLURB\n",
              "0    2018-01-31              727\n",
              "1    2018-02-28              894\n",
              "2    2018-03-31             1052\n",
              "3    2018-04-30             1245\n",
              "4    2018-05-31              980\n",
              "5    2018-06-30              844\n",
              "6    2018-07-31              811\n",
              "7    2018-08-31              834\n",
              "8    2018-09-30              732\n",
              "9    2018-10-31              605\n",
              "10   2018-11-30              651\n",
              "11   2018-12-31              544"
            ]
          },
          "metadata": {
            "tags": []
          }
        },
        {
          "output_type": "display_data",
          "data": {
            "text/html": [
              "<div>\n",
              "<style scoped>\n",
              "    .dataframe tbody tr th:only-of-type {\n",
              "        vertical-align: middle;\n",
              "    }\n",
              "\n",
              "    .dataframe tbody tr th {\n",
              "        vertical-align: top;\n",
              "    }\n",
              "\n",
              "    .dataframe thead th {\n",
              "        text-align: right;\n",
              "    }\n",
              "</style>\n",
              "<table border=\"1\" class=\"dataframe\">\n",
              "  <thead>\n",
              "    <tr style=\"text-align: right;\">\n",
              "      <th></th>\n",
              "      <th>DATA_DEMANDA</th>\n",
              "      <th>CHAMADOS_EMLURB</th>\n",
              "    </tr>\n",
              "  </thead>\n",
              "  <tbody>\n",
              "    <tr>\n",
              "      <th>0</th>\n",
              "      <td>2017-01-31</td>\n",
              "      <td>497</td>\n",
              "    </tr>\n",
              "    <tr>\n",
              "      <th>1</th>\n",
              "      <td>2017-02-28</td>\n",
              "      <td>491</td>\n",
              "    </tr>\n",
              "    <tr>\n",
              "      <th>2</th>\n",
              "      <td>2017-03-31</td>\n",
              "      <td>989</td>\n",
              "    </tr>\n",
              "    <tr>\n",
              "      <th>3</th>\n",
              "      <td>2017-04-30</td>\n",
              "      <td>804</td>\n",
              "    </tr>\n",
              "    <tr>\n",
              "      <th>4</th>\n",
              "      <td>2017-05-31</td>\n",
              "      <td>916</td>\n",
              "    </tr>\n",
              "    <tr>\n",
              "      <th>5</th>\n",
              "      <td>2017-06-30</td>\n",
              "      <td>1033</td>\n",
              "    </tr>\n",
              "    <tr>\n",
              "      <th>6</th>\n",
              "      <td>2017-07-31</td>\n",
              "      <td>1247</td>\n",
              "    </tr>\n",
              "    <tr>\n",
              "      <th>7</th>\n",
              "      <td>2017-08-31</td>\n",
              "      <td>1158</td>\n",
              "    </tr>\n",
              "    <tr>\n",
              "      <th>8</th>\n",
              "      <td>2017-09-30</td>\n",
              "      <td>719</td>\n",
              "    </tr>\n",
              "    <tr>\n",
              "      <th>9</th>\n",
              "      <td>2017-10-31</td>\n",
              "      <td>611</td>\n",
              "    </tr>\n",
              "    <tr>\n",
              "      <th>10</th>\n",
              "      <td>2017-11-30</td>\n",
              "      <td>600</td>\n",
              "    </tr>\n",
              "    <tr>\n",
              "      <th>11</th>\n",
              "      <td>2017-12-31</td>\n",
              "      <td>670</td>\n",
              "    </tr>\n",
              "  </tbody>\n",
              "</table>\n",
              "</div>"
            ],
            "text/plain": [
              "   DATA_DEMANDA  CHAMADOS_EMLURB\n",
              "0    2017-01-31              497\n",
              "1    2017-02-28              491\n",
              "2    2017-03-31              989\n",
              "3    2017-04-30              804\n",
              "4    2017-05-31              916\n",
              "5    2017-06-30             1033\n",
              "6    2017-07-31             1247\n",
              "7    2017-08-31             1158\n",
              "8    2017-09-30              719\n",
              "9    2017-10-31              611\n",
              "10   2017-11-30              600\n",
              "11   2017-12-31              670"
            ]
          },
          "metadata": {
            "tags": []
          }
        },
        {
          "output_type": "display_data",
          "data": {
            "text/html": [
              "<div>\n",
              "<style scoped>\n",
              "    .dataframe tbody tr th:only-of-type {\n",
              "        vertical-align: middle;\n",
              "    }\n",
              "\n",
              "    .dataframe tbody tr th {\n",
              "        vertical-align: top;\n",
              "    }\n",
              "\n",
              "    .dataframe thead th {\n",
              "        text-align: right;\n",
              "    }\n",
              "</style>\n",
              "<table border=\"1\" class=\"dataframe\">\n",
              "  <thead>\n",
              "    <tr style=\"text-align: right;\">\n",
              "      <th></th>\n",
              "      <th>DATA_DEMANDA</th>\n",
              "      <th>CHAMADOS_EMLURB</th>\n",
              "    </tr>\n",
              "  </thead>\n",
              "  <tbody>\n",
              "    <tr>\n",
              "      <th>0</th>\n",
              "      <td>2016-01-31</td>\n",
              "      <td>708</td>\n",
              "    </tr>\n",
              "    <tr>\n",
              "      <th>1</th>\n",
              "      <td>2016-02-29</td>\n",
              "      <td>632</td>\n",
              "    </tr>\n",
              "    <tr>\n",
              "      <th>2</th>\n",
              "      <td>2016-03-31</td>\n",
              "      <td>769</td>\n",
              "    </tr>\n",
              "    <tr>\n",
              "      <th>3</th>\n",
              "      <td>2016-04-30</td>\n",
              "      <td>586</td>\n",
              "    </tr>\n",
              "    <tr>\n",
              "      <th>4</th>\n",
              "      <td>2016-05-31</td>\n",
              "      <td>909</td>\n",
              "    </tr>\n",
              "    <tr>\n",
              "      <th>5</th>\n",
              "      <td>2016-06-30</td>\n",
              "      <td>769</td>\n",
              "    </tr>\n",
              "    <tr>\n",
              "      <th>6</th>\n",
              "      <td>2016-07-31</td>\n",
              "      <td>820</td>\n",
              "    </tr>\n",
              "    <tr>\n",
              "      <th>7</th>\n",
              "      <td>2016-08-31</td>\n",
              "      <td>763</td>\n",
              "    </tr>\n",
              "    <tr>\n",
              "      <th>8</th>\n",
              "      <td>2016-09-30</td>\n",
              "      <td>734</td>\n",
              "    </tr>\n",
              "    <tr>\n",
              "      <th>9</th>\n",
              "      <td>2016-10-31</td>\n",
              "      <td>656</td>\n",
              "    </tr>\n",
              "    <tr>\n",
              "      <th>10</th>\n",
              "      <td>2016-11-30</td>\n",
              "      <td>533</td>\n",
              "    </tr>\n",
              "    <tr>\n",
              "      <th>11</th>\n",
              "      <td>2016-12-31</td>\n",
              "      <td>377</td>\n",
              "    </tr>\n",
              "  </tbody>\n",
              "</table>\n",
              "</div>"
            ],
            "text/plain": [
              "   DATA_DEMANDA  CHAMADOS_EMLURB\n",
              "0    2016-01-31              708\n",
              "1    2016-02-29              632\n",
              "2    2016-03-31              769\n",
              "3    2016-04-30              586\n",
              "4    2016-05-31              909\n",
              "5    2016-06-30              769\n",
              "6    2016-07-31              820\n",
              "7    2016-08-31              763\n",
              "8    2016-09-30              734\n",
              "9    2016-10-31              656\n",
              "10   2016-11-30              533\n",
              "11   2016-12-31              377"
            ]
          },
          "metadata": {
            "tags": []
          }
        }
      ]
    },
    {
      "cell_type": "code",
      "metadata": {
        "colab": {
          "base_uri": "https://localhost:8080/",
          "height": 1000
        },
        "id": "yP3f5B00Q_0M",
        "outputId": "12db6965-ec02-4aeb-ef46-204d9fc495e7"
      },
      "source": [
        "crossed_info19 = pd.merge(dengue_data19, emlurb_data19, left_on=[\"dt_notificacao\"],right_on=[\"DATA_DEMANDA\"])\n",
        "display(crossed_info19)\n",
        "\n",
        "crossed_info18 = pd.merge(dengue_data18, emlurb_data18, left_on=[\"dt_notificacao\"],right_on=[\"DATA_DEMANDA\"])\n",
        "display(crossed_info18)\n",
        "\n",
        "crossed_info17 = pd.merge(dengue_data17, emlurb_data17, left_on=[\"dt_notificacao\"],right_on=[\"DATA_DEMANDA\"])\n",
        "display(crossed_info17)\n",
        "\n",
        "crossed_info16 = pd.merge(dengue_data16, emlurb_data16, left_on=[\"dt_notificacao\"],right_on=[\"DATA_DEMANDA\"])\n",
        "display(crossed_info16)"
      ],
      "execution_count": null,
      "outputs": [
        {
          "output_type": "display_data",
          "data": {
            "text/html": [
              "<div>\n",
              "<style scoped>\n",
              "    .dataframe tbody tr th:only-of-type {\n",
              "        vertical-align: middle;\n",
              "    }\n",
              "\n",
              "    .dataframe tbody tr th {\n",
              "        vertical-align: top;\n",
              "    }\n",
              "\n",
              "    .dataframe thead th {\n",
              "        text-align: right;\n",
              "    }\n",
              "</style>\n",
              "<table border=\"1\" class=\"dataframe\">\n",
              "  <thead>\n",
              "    <tr style=\"text-align: right;\">\n",
              "      <th></th>\n",
              "      <th>dt_notificacao</th>\n",
              "      <th>CASOS_DENGUE</th>\n",
              "      <th>DATA_DEMANDA</th>\n",
              "      <th>CHAMADOS_EMLURB</th>\n",
              "    </tr>\n",
              "  </thead>\n",
              "  <tbody>\n",
              "    <tr>\n",
              "      <th>0</th>\n",
              "      <td>2019-01-31</td>\n",
              "      <td>91</td>\n",
              "      <td>2019-01-31</td>\n",
              "      <td>664</td>\n",
              "    </tr>\n",
              "    <tr>\n",
              "      <th>1</th>\n",
              "      <td>2019-02-28</td>\n",
              "      <td>178</td>\n",
              "      <td>2019-02-28</td>\n",
              "      <td>950</td>\n",
              "    </tr>\n",
              "    <tr>\n",
              "      <th>2</th>\n",
              "      <td>2019-03-31</td>\n",
              "      <td>263</td>\n",
              "      <td>2019-03-31</td>\n",
              "      <td>740</td>\n",
              "    </tr>\n",
              "    <tr>\n",
              "      <th>3</th>\n",
              "      <td>2019-04-30</td>\n",
              "      <td>485</td>\n",
              "      <td>2019-04-30</td>\n",
              "      <td>1052</td>\n",
              "    </tr>\n",
              "    <tr>\n",
              "      <th>4</th>\n",
              "      <td>2019-05-31</td>\n",
              "      <td>972</td>\n",
              "      <td>2019-05-31</td>\n",
              "      <td>1132</td>\n",
              "    </tr>\n",
              "    <tr>\n",
              "      <th>5</th>\n",
              "      <td>2019-06-30</td>\n",
              "      <td>704</td>\n",
              "      <td>2019-06-30</td>\n",
              "      <td>933</td>\n",
              "    </tr>\n",
              "    <tr>\n",
              "      <th>6</th>\n",
              "      <td>2019-07-31</td>\n",
              "      <td>1004</td>\n",
              "      <td>2019-07-31</td>\n",
              "      <td>1018</td>\n",
              "    </tr>\n",
              "    <tr>\n",
              "      <th>7</th>\n",
              "      <td>2019-08-31</td>\n",
              "      <td>868</td>\n",
              "      <td>2019-08-31</td>\n",
              "      <td>928</td>\n",
              "    </tr>\n",
              "    <tr>\n",
              "      <th>8</th>\n",
              "      <td>2019-09-30</td>\n",
              "      <td>966</td>\n",
              "      <td>2019-09-30</td>\n",
              "      <td>884</td>\n",
              "    </tr>\n",
              "    <tr>\n",
              "      <th>9</th>\n",
              "      <td>2019-10-31</td>\n",
              "      <td>882</td>\n",
              "      <td>2019-10-31</td>\n",
              "      <td>1049</td>\n",
              "    </tr>\n",
              "    <tr>\n",
              "      <th>10</th>\n",
              "      <td>2019-11-30</td>\n",
              "      <td>602</td>\n",
              "      <td>2019-11-30</td>\n",
              "      <td>735</td>\n",
              "    </tr>\n",
              "    <tr>\n",
              "      <th>11</th>\n",
              "      <td>2019-12-31</td>\n",
              "      <td>262</td>\n",
              "      <td>2019-12-31</td>\n",
              "      <td>568</td>\n",
              "    </tr>\n",
              "  </tbody>\n",
              "</table>\n",
              "</div>"
            ],
            "text/plain": [
              "   dt_notificacao  CASOS_DENGUE DATA_DEMANDA  CHAMADOS_EMLURB\n",
              "0      2019-01-31            91   2019-01-31              664\n",
              "1      2019-02-28           178   2019-02-28              950\n",
              "2      2019-03-31           263   2019-03-31              740\n",
              "3      2019-04-30           485   2019-04-30             1052\n",
              "4      2019-05-31           972   2019-05-31             1132\n",
              "5      2019-06-30           704   2019-06-30              933\n",
              "6      2019-07-31          1004   2019-07-31             1018\n",
              "7      2019-08-31           868   2019-08-31              928\n",
              "8      2019-09-30           966   2019-09-30              884\n",
              "9      2019-10-31           882   2019-10-31             1049\n",
              "10     2019-11-30           602   2019-11-30              735\n",
              "11     2019-12-31           262   2019-12-31              568"
            ]
          },
          "metadata": {
            "tags": []
          }
        },
        {
          "output_type": "display_data",
          "data": {
            "text/html": [
              "<div>\n",
              "<style scoped>\n",
              "    .dataframe tbody tr th:only-of-type {\n",
              "        vertical-align: middle;\n",
              "    }\n",
              "\n",
              "    .dataframe tbody tr th {\n",
              "        vertical-align: top;\n",
              "    }\n",
              "\n",
              "    .dataframe thead th {\n",
              "        text-align: right;\n",
              "    }\n",
              "</style>\n",
              "<table border=\"1\" class=\"dataframe\">\n",
              "  <thead>\n",
              "    <tr style=\"text-align: right;\">\n",
              "      <th></th>\n",
              "      <th>dt_notificacao</th>\n",
              "      <th>CASOS_DENGUE</th>\n",
              "      <th>DATA_DEMANDA</th>\n",
              "      <th>CHAMADOS_EMLURB</th>\n",
              "    </tr>\n",
              "  </thead>\n",
              "  <tbody>\n",
              "    <tr>\n",
              "      <th>0</th>\n",
              "      <td>2018-01-31</td>\n",
              "      <td>73</td>\n",
              "      <td>2018-01-31</td>\n",
              "      <td>727</td>\n",
              "    </tr>\n",
              "    <tr>\n",
              "      <th>1</th>\n",
              "      <td>2018-02-28</td>\n",
              "      <td>130</td>\n",
              "      <td>2018-02-28</td>\n",
              "      <td>894</td>\n",
              "    </tr>\n",
              "    <tr>\n",
              "      <th>2</th>\n",
              "      <td>2018-03-31</td>\n",
              "      <td>151</td>\n",
              "      <td>2018-03-31</td>\n",
              "      <td>1052</td>\n",
              "    </tr>\n",
              "    <tr>\n",
              "      <th>3</th>\n",
              "      <td>2018-04-30</td>\n",
              "      <td>344</td>\n",
              "      <td>2018-04-30</td>\n",
              "      <td>1245</td>\n",
              "    </tr>\n",
              "    <tr>\n",
              "      <th>4</th>\n",
              "      <td>2018-05-31</td>\n",
              "      <td>419</td>\n",
              "      <td>2018-05-31</td>\n",
              "      <td>980</td>\n",
              "    </tr>\n",
              "    <tr>\n",
              "      <th>5</th>\n",
              "      <td>2018-06-30</td>\n",
              "      <td>311</td>\n",
              "      <td>2018-06-30</td>\n",
              "      <td>844</td>\n",
              "    </tr>\n",
              "    <tr>\n",
              "      <th>6</th>\n",
              "      <td>2018-07-31</td>\n",
              "      <td>263</td>\n",
              "      <td>2018-07-31</td>\n",
              "      <td>811</td>\n",
              "    </tr>\n",
              "    <tr>\n",
              "      <th>7</th>\n",
              "      <td>2018-08-31</td>\n",
              "      <td>241</td>\n",
              "      <td>2018-08-31</td>\n",
              "      <td>834</td>\n",
              "    </tr>\n",
              "    <tr>\n",
              "      <th>8</th>\n",
              "      <td>2018-09-30</td>\n",
              "      <td>166</td>\n",
              "      <td>2018-09-30</td>\n",
              "      <td>732</td>\n",
              "    </tr>\n",
              "    <tr>\n",
              "      <th>9</th>\n",
              "      <td>2018-10-31</td>\n",
              "      <td>198</td>\n",
              "      <td>2018-10-31</td>\n",
              "      <td>605</td>\n",
              "    </tr>\n",
              "    <tr>\n",
              "      <th>10</th>\n",
              "      <td>2018-11-30</td>\n",
              "      <td>172</td>\n",
              "      <td>2018-11-30</td>\n",
              "      <td>651</td>\n",
              "    </tr>\n",
              "    <tr>\n",
              "      <th>11</th>\n",
              "      <td>2018-12-31</td>\n",
              "      <td>138</td>\n",
              "      <td>2018-12-31</td>\n",
              "      <td>544</td>\n",
              "    </tr>\n",
              "  </tbody>\n",
              "</table>\n",
              "</div>"
            ],
            "text/plain": [
              "   dt_notificacao  CASOS_DENGUE DATA_DEMANDA  CHAMADOS_EMLURB\n",
              "0      2018-01-31            73   2018-01-31              727\n",
              "1      2018-02-28           130   2018-02-28              894\n",
              "2      2018-03-31           151   2018-03-31             1052\n",
              "3      2018-04-30           344   2018-04-30             1245\n",
              "4      2018-05-31           419   2018-05-31              980\n",
              "5      2018-06-30           311   2018-06-30              844\n",
              "6      2018-07-31           263   2018-07-31              811\n",
              "7      2018-08-31           241   2018-08-31              834\n",
              "8      2018-09-30           166   2018-09-30              732\n",
              "9      2018-10-31           198   2018-10-31              605\n",
              "10     2018-11-30           172   2018-11-30              651\n",
              "11     2018-12-31           138   2018-12-31              544"
            ]
          },
          "metadata": {
            "tags": []
          }
        },
        {
          "output_type": "display_data",
          "data": {
            "text/html": [
              "<div>\n",
              "<style scoped>\n",
              "    .dataframe tbody tr th:only-of-type {\n",
              "        vertical-align: middle;\n",
              "    }\n",
              "\n",
              "    .dataframe tbody tr th {\n",
              "        vertical-align: top;\n",
              "    }\n",
              "\n",
              "    .dataframe thead th {\n",
              "        text-align: right;\n",
              "    }\n",
              "</style>\n",
              "<table border=\"1\" class=\"dataframe\">\n",
              "  <thead>\n",
              "    <tr style=\"text-align: right;\">\n",
              "      <th></th>\n",
              "      <th>dt_notificacao</th>\n",
              "      <th>CASOS_DENGUE</th>\n",
              "      <th>DATA_DEMANDA</th>\n",
              "      <th>CHAMADOS_EMLURB</th>\n",
              "    </tr>\n",
              "  </thead>\n",
              "  <tbody>\n",
              "    <tr>\n",
              "      <th>0</th>\n",
              "      <td>2017-01-31</td>\n",
              "      <td>169</td>\n",
              "      <td>2017-01-31</td>\n",
              "      <td>497</td>\n",
              "    </tr>\n",
              "    <tr>\n",
              "      <th>1</th>\n",
              "      <td>2017-02-28</td>\n",
              "      <td>230</td>\n",
              "      <td>2017-02-28</td>\n",
              "      <td>491</td>\n",
              "    </tr>\n",
              "    <tr>\n",
              "      <th>2</th>\n",
              "      <td>2017-03-31</td>\n",
              "      <td>333</td>\n",
              "      <td>2017-03-31</td>\n",
              "      <td>989</td>\n",
              "    </tr>\n",
              "    <tr>\n",
              "      <th>3</th>\n",
              "      <td>2017-04-30</td>\n",
              "      <td>213</td>\n",
              "      <td>2017-04-30</td>\n",
              "      <td>804</td>\n",
              "    </tr>\n",
              "    <tr>\n",
              "      <th>4</th>\n",
              "      <td>2017-05-31</td>\n",
              "      <td>273</td>\n",
              "      <td>2017-05-31</td>\n",
              "      <td>916</td>\n",
              "    </tr>\n",
              "    <tr>\n",
              "      <th>5</th>\n",
              "      <td>2017-06-30</td>\n",
              "      <td>279</td>\n",
              "      <td>2017-06-30</td>\n",
              "      <td>1033</td>\n",
              "    </tr>\n",
              "    <tr>\n",
              "      <th>6</th>\n",
              "      <td>2017-07-31</td>\n",
              "      <td>115</td>\n",
              "      <td>2017-07-31</td>\n",
              "      <td>1247</td>\n",
              "    </tr>\n",
              "    <tr>\n",
              "      <th>7</th>\n",
              "      <td>2017-08-31</td>\n",
              "      <td>196</td>\n",
              "      <td>2017-08-31</td>\n",
              "      <td>1158</td>\n",
              "    </tr>\n",
              "    <tr>\n",
              "      <th>8</th>\n",
              "      <td>2017-09-30</td>\n",
              "      <td>190</td>\n",
              "      <td>2017-09-30</td>\n",
              "      <td>719</td>\n",
              "    </tr>\n",
              "    <tr>\n",
              "      <th>9</th>\n",
              "      <td>2017-10-31</td>\n",
              "      <td>183</td>\n",
              "      <td>2017-10-31</td>\n",
              "      <td>611</td>\n",
              "    </tr>\n",
              "    <tr>\n",
              "      <th>10</th>\n",
              "      <td>2017-11-30</td>\n",
              "      <td>123</td>\n",
              "      <td>2017-11-30</td>\n",
              "      <td>600</td>\n",
              "    </tr>\n",
              "    <tr>\n",
              "      <th>11</th>\n",
              "      <td>2017-12-31</td>\n",
              "      <td>111</td>\n",
              "      <td>2017-12-31</td>\n",
              "      <td>670</td>\n",
              "    </tr>\n",
              "  </tbody>\n",
              "</table>\n",
              "</div>"
            ],
            "text/plain": [
              "   dt_notificacao  CASOS_DENGUE DATA_DEMANDA  CHAMADOS_EMLURB\n",
              "0      2017-01-31           169   2017-01-31              497\n",
              "1      2017-02-28           230   2017-02-28              491\n",
              "2      2017-03-31           333   2017-03-31              989\n",
              "3      2017-04-30           213   2017-04-30              804\n",
              "4      2017-05-31           273   2017-05-31              916\n",
              "5      2017-06-30           279   2017-06-30             1033\n",
              "6      2017-07-31           115   2017-07-31             1247\n",
              "7      2017-08-31           196   2017-08-31             1158\n",
              "8      2017-09-30           190   2017-09-30              719\n",
              "9      2017-10-31           183   2017-10-31              611\n",
              "10     2017-11-30           123   2017-11-30              600\n",
              "11     2017-12-31           111   2017-12-31              670"
            ]
          },
          "metadata": {
            "tags": []
          }
        },
        {
          "output_type": "display_data",
          "data": {
            "text/html": [
              "<div>\n",
              "<style scoped>\n",
              "    .dataframe tbody tr th:only-of-type {\n",
              "        vertical-align: middle;\n",
              "    }\n",
              "\n",
              "    .dataframe tbody tr th {\n",
              "        vertical-align: top;\n",
              "    }\n",
              "\n",
              "    .dataframe thead th {\n",
              "        text-align: right;\n",
              "    }\n",
              "</style>\n",
              "<table border=\"1\" class=\"dataframe\">\n",
              "  <thead>\n",
              "    <tr style=\"text-align: right;\">\n",
              "      <th></th>\n",
              "      <th>dt_notificacao</th>\n",
              "      <th>CASOS_DENGUE</th>\n",
              "      <th>DATA_DEMANDA</th>\n",
              "      <th>CHAMADOS_EMLURB</th>\n",
              "    </tr>\n",
              "  </thead>\n",
              "  <tbody>\n",
              "    <tr>\n",
              "      <th>0</th>\n",
              "      <td>2016-01-31</td>\n",
              "      <td>3113</td>\n",
              "      <td>2016-01-31</td>\n",
              "      <td>708</td>\n",
              "    </tr>\n",
              "    <tr>\n",
              "      <th>1</th>\n",
              "      <td>2016-02-29</td>\n",
              "      <td>5540</td>\n",
              "      <td>2016-02-29</td>\n",
              "      <td>632</td>\n",
              "    </tr>\n",
              "    <tr>\n",
              "      <th>2</th>\n",
              "      <td>2016-03-31</td>\n",
              "      <td>3746</td>\n",
              "      <td>2016-03-31</td>\n",
              "      <td>769</td>\n",
              "    </tr>\n",
              "    <tr>\n",
              "      <th>3</th>\n",
              "      <td>2016-04-30</td>\n",
              "      <td>2069</td>\n",
              "      <td>2016-04-30</td>\n",
              "      <td>586</td>\n",
              "    </tr>\n",
              "    <tr>\n",
              "      <th>4</th>\n",
              "      <td>2016-05-31</td>\n",
              "      <td>1474</td>\n",
              "      <td>2016-05-31</td>\n",
              "      <td>909</td>\n",
              "    </tr>\n",
              "    <tr>\n",
              "      <th>5</th>\n",
              "      <td>2016-06-30</td>\n",
              "      <td>834</td>\n",
              "      <td>2016-06-30</td>\n",
              "      <td>769</td>\n",
              "    </tr>\n",
              "    <tr>\n",
              "      <th>6</th>\n",
              "      <td>2016-07-31</td>\n",
              "      <td>464</td>\n",
              "      <td>2016-07-31</td>\n",
              "      <td>820</td>\n",
              "    </tr>\n",
              "    <tr>\n",
              "      <th>7</th>\n",
              "      <td>2016-08-31</td>\n",
              "      <td>394</td>\n",
              "      <td>2016-08-31</td>\n",
              "      <td>763</td>\n",
              "    </tr>\n",
              "    <tr>\n",
              "      <th>8</th>\n",
              "      <td>2016-09-30</td>\n",
              "      <td>296</td>\n",
              "      <td>2016-09-30</td>\n",
              "      <td>734</td>\n",
              "    </tr>\n",
              "    <tr>\n",
              "      <th>9</th>\n",
              "      <td>2016-10-31</td>\n",
              "      <td>258</td>\n",
              "      <td>2016-10-31</td>\n",
              "      <td>656</td>\n",
              "    </tr>\n",
              "    <tr>\n",
              "      <th>10</th>\n",
              "      <td>2016-11-30</td>\n",
              "      <td>178</td>\n",
              "      <td>2016-11-30</td>\n",
              "      <td>533</td>\n",
              "    </tr>\n",
              "    <tr>\n",
              "      <th>11</th>\n",
              "      <td>2016-12-31</td>\n",
              "      <td>172</td>\n",
              "      <td>2016-12-31</td>\n",
              "      <td>377</td>\n",
              "    </tr>\n",
              "  </tbody>\n",
              "</table>\n",
              "</div>"
            ],
            "text/plain": [
              "   dt_notificacao  CASOS_DENGUE DATA_DEMANDA  CHAMADOS_EMLURB\n",
              "0      2016-01-31          3113   2016-01-31              708\n",
              "1      2016-02-29          5540   2016-02-29              632\n",
              "2      2016-03-31          3746   2016-03-31              769\n",
              "3      2016-04-30          2069   2016-04-30              586\n",
              "4      2016-05-31          1474   2016-05-31              909\n",
              "5      2016-06-30           834   2016-06-30              769\n",
              "6      2016-07-31           464   2016-07-31              820\n",
              "7      2016-08-31           394   2016-08-31              763\n",
              "8      2016-09-30           296   2016-09-30              734\n",
              "9      2016-10-31           258   2016-10-31              656\n",
              "10     2016-11-30           178   2016-11-30              533\n",
              "11     2016-12-31           172   2016-12-31              377"
            ]
          },
          "metadata": {
            "tags": []
          }
        }
      ]
    },
    {
      "cell_type": "markdown",
      "metadata": {
        "id": "0DkjDX4cMEKy"
      },
      "source": [
        "## **Testes de Hipótese**\n",
        "\n",
        "O teste de hipótese é um método estatístico usado na tomada de decisões estatísticas usando dados de um conjunto. O teste de hipóteses é basicamente uma suposição que fazemos sobre o parâmetro do dataset.\n",
        "\n",
        "Agora, ao realizar os t-test, normalmente se tem as seguintes duas hipóteses:\n",
        "\n",
        "*   Hipóteses nulas: as médias de dois grupos são iguais\n",
        "*   Hipóteses alternativas: as médias de dois grupos são diferentes (bicaudais)"
      ]
    },
    {
      "cell_type": "code",
      "metadata": {
        "id": "qwbAeVffOUjy"
      },
      "source": [
        "#Testes de Hipótese para dados de 2020\n",
        "\n",
        "crossed_info['mes'] = crossed_info.dt_notificacao.apply(lambda x: x.strftime('%m'))\n",
        "meses_analise = ['05', '06','07'] #meses de chuva \n",
        "dengue_data_meses = crossed_info[(crossed_info.mes.isin(meses_analise))]\n",
        "dengue_data_meses['mes'] = pd.to_numeric(dengue_data_meses['mes'])\n",
        "\n",
        "# Teste de hipótese para mês de Janeiro e Junho para casos de dengue\n",
        "th_dengue = stats.ttest_ind(dengue_data_meses['CASOS_DENGUE'], dengue_data_meses['mes'], equal_var=True)\n",
        "display(th_dengue)\n",
        "\n",
        "# Teste de hipótese para mês de Janeiro e Junho para solicitações de drenagem\n",
        "th_emlurb = stats.ttest_ind(dengue_data_meses['CHAMADOS_EMLURB'], dengue_data_meses['mes'], equal_var=True)\n",
        "display(th_emlurb)"
      ],
      "execution_count": null,
      "outputs": []
    },
    {
      "cell_type": "code",
      "metadata": {
        "id": "izEkGkYeRxga"
      },
      "source": [
        "#Testes de Hipótese para dados de 2019-2016\n",
        "\n",
        "crossed_info19['mes'] = crossed_info19.dt_notificacao.apply(lambda x: x.strftime('%m'))\n",
        "meses_analise = ['01', '02', '06','07'] #meses de chuva \n",
        "dengue_data19_meses = crossed_info19[(crossed_info19.mes.isin(meses_analise))]\n",
        "dengue_data19_meses['mes'] = pd.to_numeric(dengue_data19_meses['mes'])\n",
        "\n",
        "crossed_info18['mes'] = crossed_info18.dt_notificacao.apply(lambda x: x.strftime('%m'))\n",
        "meses_analise = ['01', '02', '06','07'] #meses de chuva \n",
        "dengue_data18_meses = crossed_info18[(crossed_info18.mes.isin(meses_analise))]\n",
        "dengue_data18_meses['mes'] = pd.to_numeric(dengue_data18_meses['mes'])\n",
        "\n",
        "crossed_info17['mes'] = crossed_info17.dt_notificacao.apply(lambda x: x.strftime('%m'))\n",
        "meses_analise = ['01', '02', '06','07'] #meses de chuva \n",
        "dengue_data17_meses = crossed_info17[(crossed_info17.mes.isin(meses_analise))]\n",
        "dengue_data17_meses['mes'] = pd.to_numeric(dengue_data17_meses['mes'])\n",
        "\n",
        "crossed_info16['mes'] = crossed_info16.dt_notificacao.apply(lambda x: x.strftime('%m'))\n",
        "meses_analise = ['01', '02', '06','07'] #meses de chuva \n",
        "dengue_data16_meses = crossed_info16[(crossed_info16.mes.isin(meses_analise))]\n",
        "dengue_data16_meses['mes'] = pd.to_numeric(dengue_data16_meses['mes'])\n",
        "\n",
        "# Teste de hipótese para mês de Janeiro e Junho para casos de dengue\n",
        "th_dengue = stats.ttest_ind(dengue_data19_meses['CASOS_DENGUE'], dengue_data19_meses['mes'], equal_var=True)\n",
        "display(th_dengue)\n",
        "\n",
        "th_dengue = stats.ttest_ind(dengue_data18_meses['CASOS_DENGUE'], dengue_data18_meses['mes'], equal_var=True)\n",
        "display(th_dengue)\n",
        "\n",
        "th_dengue = stats.ttest_ind(dengue_data17_meses['CASOS_DENGUE'], dengue_data17_meses['mes'], equal_var=True)\n",
        "display(th_dengue)\n",
        "\n",
        "th_dengue = stats.ttest_ind(dengue_data16_meses['CASOS_DENGUE'], dengue_data16_meses['mes'], equal_var=True)\n",
        "display(th_dengue)\n",
        "\n",
        "# Teste de hipótese para mês de Janeiro e Junho para solicitações de drenagem\n",
        "th_emlurb = stats.ttest_ind(dengue_data19_meses['CHAMADOS_EMLURB'], dengue_data19_meses['mes'], equal_var=True)\n",
        "display(th_emlurb)\n",
        "\n",
        "th_emlurb = stats.ttest_ind(dengue_data18_meses['CHAMADOS_EMLURB'], dengue_data18_meses['mes'], equal_var=True)\n",
        "display(th_emlurb)\n",
        "\n",
        "th_emlurb = stats.ttest_ind(dengue_data17_meses['CHAMADOS_EMLURB'], dengue_data17_meses['mes'], equal_var=True)\n",
        "display(th_emlurb)\n",
        "\n",
        "th_emlurb = stats.ttest_ind(dengue_data17_meses['CHAMADOS_EMLURB'], dengue_data17_meses['mes'], equal_var=True)\n",
        "display(th_emlurb)\n",
        "\n",
        "th_emlurb = stats.ttest_ind(dengue_data16_meses['CHAMADOS_EMLURB'], dengue_data16_meses['mes'], equal_var=True)\n",
        "display(th_emlurb)"
      ],
      "execution_count": null,
      "outputs": []
    },
    {
      "cell_type": "markdown",
      "metadata": {
        "id": "htv7xYEQjYqD"
      },
      "source": [
        "O **p-value** é definido como a probabilidade de se\n",
        "observar um valor da estatística de teste maior ou\n",
        "igual ao encontrado. Tradicionalmente, o valor de corte\n",
        "para rejeitar a hipótese nula é de 0,05, o que significa\n",
        "que, quando não há nenhuma diferença, um valor tão\n",
        "extremo para a estatística de teste é esperado em menos\n",
        "de 5% das vezes"
      ]
    },
    {
      "cell_type": "markdown",
      "metadata": {
        "id": "sPkSOEV60JDZ"
      },
      "source": [
        "## **Correlações**\n",
        "\n",
        "Fazer teste de Pearson/Spillman"
      ]
    },
    {
      "cell_type": "code",
      "metadata": {
        "colab": {
          "base_uri": "https://localhost:8080/"
        },
        "id": "a09VIeuynDRV",
        "outputId": "0351f903-de67-48ac-e41b-8043873b073c"
      },
      "source": [
        "print(\"SPEARMAN\")\n",
        "print(\"\\n20\")\n",
        "print(crossed_info.corr(method='spearman'))\n",
        "print(\"\\n19\")\n",
        "print(crossed_info19.corr(method='spearman'))\n",
        "print(\"\\n18\")\n",
        "print(crossed_info18.corr(method='spearman'))\n",
        "print(\"\\n17\")\n",
        "print(crossed_info17.corr(method='spearman'))\n",
        "print(\"\\n16\")\n",
        "print(crossed_info16.corr(method='spearman'))\n",
        "print(\" \")\n",
        "print(\"------------------\")\n",
        "print(\" \")\n",
        "print(\"PEARSON\")\n",
        "print(\"20\")\n",
        "print(crossed_info.corr(method='pearson'))\n",
        "print(\"\\n19\")\n",
        "print(crossed_info19.corr(method='pearson'))\n",
        "print(\"\\n18\")\n",
        "print(crossed_info18.corr(method='pearson'))\n",
        "print(\"\\n17\")\n",
        "print(crossed_info17.corr(method='pearson'))\n",
        "print(\"\\n16\")\n",
        "print(crossed_info16.corr(method='pearson'))"
      ],
      "execution_count": null,
      "outputs": [
        {
          "output_type": "stream",
          "text": [
            "SPEARMAN\n",
            "\n",
            "20\n",
            "                 CASOS_DENGUE  CHAMADOS_EMLURB\n",
            "CASOS_DENGUE         1.000000         0.357143\n",
            "CHAMADOS_EMLURB      0.357143         1.000000\n",
            "\n",
            "19\n",
            "                 CASOS_DENGUE  CHAMADOS_EMLURB\n",
            "CASOS_DENGUE         1.000000         0.559441\n",
            "CHAMADOS_EMLURB      0.559441         1.000000\n",
            "\n",
            "18\n",
            "                 CASOS_DENGUE  CHAMADOS_EMLURB\n",
            "CASOS_DENGUE         1.000000         0.426573\n",
            "CHAMADOS_EMLURB      0.426573         1.000000\n",
            "\n",
            "17\n",
            "                 CASOS_DENGUE  CHAMADOS_EMLURB\n",
            "CASOS_DENGUE         1.000000         0.244755\n",
            "CHAMADOS_EMLURB      0.244755         1.000000\n",
            "\n",
            "16\n",
            "                 CASOS_DENGUE  CHAMADOS_EMLURB\n",
            "CASOS_DENGUE         1.000000         0.343258\n",
            "CHAMADOS_EMLURB      0.343258         1.000000\n",
            " \n",
            "------------------\n",
            " \n",
            "PEARSON\n",
            "20\n",
            "                 CASOS_DENGUE  CHAMADOS_EMLURB\n",
            "CASOS_DENGUE         1.000000         0.463092\n",
            "CHAMADOS_EMLURB      0.463092         1.000000\n",
            "\n",
            "19\n",
            "                 CASOS_DENGUE  CHAMADOS_EMLURB\n",
            "CASOS_DENGUE         1.000000         0.657234\n",
            "CHAMADOS_EMLURB      0.657234         1.000000\n",
            "\n",
            "18\n",
            "                 CASOS_DENGUE  CHAMADOS_EMLURB\n",
            "CASOS_DENGUE         1.000000         0.535247\n",
            "CHAMADOS_EMLURB      0.535247         1.000000\n",
            "\n",
            "17\n",
            "                 CASOS_DENGUE  CHAMADOS_EMLURB\n",
            "CASOS_DENGUE         1.000000         0.224201\n",
            "CHAMADOS_EMLURB      0.224201         1.000000\n",
            "\n",
            "16\n",
            "                 CASOS_DENGUE  CHAMADOS_EMLURB\n",
            "CASOS_DENGUE         1.000000         0.092506\n",
            "CHAMADOS_EMLURB      0.092506         1.000000\n"
          ],
          "name": "stdout"
        }
      ]
    },
    {
      "cell_type": "markdown",
      "metadata": {
        "id": "W4kGNsh-MhuM"
      },
      "source": [
        "## **Análise de Gráficos**\n",
        "\n",
        "Analisaremos a tabela com dados cruzados, **crossed_info**. Coletando o número de casos de dengue e solicitações de drenagem por mês para os anos de 2020 a 2016. "
      ]
    },
    {
      "cell_type": "code",
      "metadata": {
        "id": "gm2qZBUlxQvi",
        "colab": {
          "base_uri": "https://localhost:8080/",
          "height": 758
        },
        "outputId": "b76efe52-1a43-4b5c-ed2b-821110698816"
      },
      "source": [
        "# Análise para Casos de dengue x Meses de 2020 a 2016\n",
        "\n",
        "crossed_info['mes'] = pd.to_numeric(crossed_info['mes'])\n",
        "crossed_info19['mes'] = pd.to_numeric(crossed_info19['mes'])\n",
        "crossed_info18['mes'] = pd.to_numeric(crossed_info18['mes'])\n",
        "crossed_info17['mes'] = pd.to_numeric(crossed_info17['mes'])\n",
        "crossed_info16['mes'] = pd.to_numeric(crossed_info16['mes'])\n",
        "\n",
        "crossed_info['month'] = crossed_info['mes'].apply(lambda x: calendar.month_abbr[x])\n",
        "crossed_info19['month'] = crossed_info19['mes'].apply(lambda x: calendar.month_abbr[x])\n",
        "crossed_info18['month'] = crossed_info18['mes'].apply(lambda x: calendar.month_abbr[x])\n",
        "crossed_info17['month'] = crossed_info17['mes'].apply(lambda x: calendar.month_abbr[x])\n",
        "crossed_info16['month'] = crossed_info16['mes'].apply(lambda x: calendar.month_abbr[x])\n",
        "\n",
        "\n",
        "fig = plt.figure(1)\n",
        "fig.set_figheight(12) \n",
        "fig.set_figwidth(20) \n",
        "\n",
        "\n",
        "ax1 = plt.subplot(231)\n",
        "crossed_info.plot.bar(x='month', y='CASOS_DENGUE', legend=False, ax=ax1,  title='Casos de dengue em 2020', color='blue', ylabel='Nª de casos', xlabel='Mês',)\n",
        "\n",
        "ax2 = plt.subplot(232)\n",
        "crossed_info19.plot.bar(x='month', y='CASOS_DENGUE', legend=False, ax=ax2,title='Casos de dengue em 2019', color='orange', ylabel='Nª de casos', xlabel='Mês',)\n",
        "\n",
        "\n",
        "ax3 = plt.subplot(233)\n",
        "crossed_info18.plot.bar(x='month', y='CASOS_DENGUE', legend=False, ax=ax3,title='Casos de dengue em 2018', color='red', ylabel='Nª de casos', xlabel='Mês',)\n",
        "\n",
        "\n",
        "ax4 = plt.subplot(234)\n",
        "crossed_info17.plot.bar(x='month', y='CASOS_DENGUE', legend=False, ax=ax4,title='Casos de dengue em 2017', color='green', ylabel='Nª de casos', xlabel='Mês',)\n",
        "\n",
        "ax5 = plt.subplot(235)\n",
        "crossed_info17.plot.bar(x='month', y='CASOS_DENGUE', legend=False, ax=ax5,title='Casos de dengue em 2016', color='cyan', ylabel='Nª de casos', xlabel='Mês',)"
      ],
      "execution_count": null,
      "outputs": [
        {
          "output_type": "execute_result",
          "data": {
            "text/plain": [
              "<matplotlib.axes._subplots.AxesSubplot at 0x7fdef46881d0>"
            ]
          },
          "metadata": {
            "tags": []
          },
          "execution_count": 43
        },
        {
          "output_type": "display_data",
          "data": {
            "image/png": "[encoded data removed]",
            "text/plain": [
              "<Figure size 1440x864 with 5 Axes>"
            ]
          },
          "metadata": {
            "tags": [],
            "needs_background": "light"
          }
        }
      ]
    },
    {
      "cell_type": "code",
      "metadata": {
        "colab": {
          "base_uri": "https://localhost:8080/"
        },
        "id": "kqiKh-t0z3Ov",
        "outputId": "0a6e4795-1e08-4b8d-f22f-a39674720158"
      },
      "source": [
        "# Análise para Solicitações de drenagem x Meses em 2016 a 2020\n",
        "\n",
        "fig = plt.figure(1)\n",
        "fig.set_figheight(12) \n",
        "fig.set_figwidth(20) \n",
        "\n",
        "ax1 = plt.subplot(231)\n",
        "crossed_info.plot.bar(x='month', y='CHAMADOS_EMLURB', legend=False, ax=ax1,  title='Solicitações de drenagem em 2020', color='blue', ylabel='Nª de casos', xlabel='Mês',)\n",
        "\n",
        "ax2 = plt.subplot(232)\n",
        "crossed_info19.plot.bar(x='month', y='CHAMADOS_EMLURB', legend=False, ax=ax2,title='Solicitações de drenagem em 2019', color='orange', ylabel='Nª de casos', xlabel='Mês',)\n",
        "\n",
        "ax3 = plt.subplot(233)\n",
        "crossed_info18.plot.bar(x='month', y='CHAMADOS_EMLURB', legend=False, ax=ax3,title='Solicitações de drenagem em 2018', color='red', ylabel='Nª de casos', xlabel='Mês',)\n",
        "\n",
        "ax4 = plt.subplot(234)\n",
        "crossed_info17.plot.bar(x='month', y='CHAMADOS_EMLURB', legend=False, ax=ax4,title='Solicitações de drenagem em 2017', color='green', ylabel='Nª de casos', xlabel='Mês',)\n",
        "\n",
        "ax5 = plt.subplot(235)\n",
        "crossed_info16.plot.bar(x='month', y='CHAMADOS_EMLURB', legend=False, ax=ax5,title='Solicitações de drenagem em 2016', color='cyan', ylabel='Nª de casos', xlabel='Mês',)"
      ],
      "execution_count": null,
      "outputs": [
        {
          "output_type": "execute_result",
          "data": {
            "text/plain": [
              "<matplotlib.axes._subplots.AxesSubplot at 0x7fdef5838c90>"
            ]
          },
          "metadata": {
            "tags": []
          },
          "execution_count": 16
        },
        {
          "output_type": "display_data",
          "data": {
            "image/png": "[encoded data removed]",
            "text/plain": [
              "<Figure size 1440x864 with 5 Axes>"
            ]
          },
          "metadata": {
            "tags": [],
            "needs_background": "light"
          }
        }
      ]
    },
    {
      "cell_type": "code",
      "metadata": {
        "colab": {
          "base_uri": "https://localhost:8080/",
          "height": 748
        },
        "id": "cLKJZyRS0cVO",
        "outputId": "d9b7af64-ea18-4acc-f28c-ebceab31b434"
      },
      "source": [
        "# Gráfico tipo scatter relacionando Casos dengue x Solicitações de drenagens em 2016 a 2020\n",
        "\n",
        "fig = plt.figure(1)\n",
        "fig.set_figheight(12) \n",
        "fig.set_figwidth(20) \n",
        "\n",
        "ax1 = plt.subplot(231)\n",
        "crossed_info.plot.scatter(x = 'CHAMADOS_EMLURB', y = 'CASOS_DENGUE', legend=False, ax=ax1,  title='Dengue x Drenagem 2020', color='blue',grid=True)\n",
        "\n",
        "ax2 = plt.subplot(232)\n",
        "crossed_info19.plot.scatter(x = 'CHAMADOS_EMLURB', y = 'CASOS_DENGUE', legend=False, ax=ax2,title='Dengue x Drenagem 2019', color='orange',grid=True)\n",
        "\n",
        "ax3 = plt.subplot(233)\n",
        "crossed_info18.plot.scatter(x = 'CHAMADOS_EMLURB', y = 'CASOS_DENGUE', legend=False, ax=ax3,title='Dengue x Drenagem 2018', color='red',grid=True)\n",
        "\n",
        "ax4 = plt.subplot(234)\n",
        "crossed_info17.plot.scatter(x = 'CHAMADOS_EMLURB', y = 'CASOS_DENGUE', legend=False, ax=ax4,title='Dengue x Drenagem 2017', color='green',grid=True)\n",
        "\n",
        "ax5 = plt.subplot(235)\n",
        "crossed_info16.plot.scatter(x = 'CHAMADOS_EMLURB', y = 'CASOS_DENGUE', legend=False, ax=ax5,title='Dengue x Drenagem 2016', color='cyan',grid=True)"
      ],
      "execution_count": null,
      "outputs": [
        {
          "output_type": "execute_result",
          "data": {
            "text/plain": [
              "<matplotlib.axes._subplots.AxesSubplot at 0x7fdef5095c10>"
            ]
          },
          "metadata": {
            "tags": []
          },
          "execution_count": 17
        },
        {
          "output_type": "display_data",
          "data": {
            "image/png": "[encoded data removed]",
            "text/plain": [
              "<Figure size 1440x864 with 5 Axes>"
            ]
          },
          "metadata": {
            "tags": [],
            "needs_background": "light"
          }
        }
      ]
    },
    {
      "cell_type": "code",
      "metadata": {
        "id": "i9sUwseQ1Tb3",
        "colab": {
          "base_uri": "https://localhost:8080/",
          "height": 296
        },
        "outputId": "840d4408-6095-4117-da13-ad101ec644b6"
      },
      "source": [
        "# Comparação de casos de dengue para anos de 2020 a 2016\n",
        "\n",
        "ax = crossed_info.plot(x='month', y = 'CASOS_DENGUE', ylabel='Casos de dengue', xlabel='Mês', kind = 'line', color='blue', label='Casos 2020')\n",
        "crossed_info19.plot(x='month', y = 'CASOS_DENGUE', kind = 'line', ax=ax, color='orange', label='Casos 2019')\n",
        "crossed_info18.plot(x='month', y = 'CASOS_DENGUE', kind = 'line', ax=ax, color='red', label='Casos 2018')\n",
        "crossed_info17.plot(x='month', y = 'CASOS_DENGUE', kind = 'line', ax=ax, color='green', label='Casos 2017')\n",
        "crossed_info16.plot(x='month', y = 'CASOS_DENGUE', kind = 'line', ax=ax, color='cyan', label='Casos 2016')"
      ],
      "execution_count": null,
      "outputs": [
        {
          "output_type": "execute_result",
          "data": {
            "text/plain": [
              "<matplotlib.axes._subplots.AxesSubplot at 0x7fdef4f466d0>"
            ]
          },
          "metadata": {
            "tags": []
          },
          "execution_count": 18
        },
        {
          "output_type": "display_data",
          "data": {
            "image/png": "[encoded data removed]",
            "text/plain": [
              "<Figure size 432x288 with 1 Axes>"
            ]
          },
          "metadata": {
            "tags": [],
            "needs_background": "light"
          }
        }
      ]
    },
    {
      "cell_type": "code",
      "metadata": {
        "id": "covLCYk54jDX",
        "colab": {
          "base_uri": "https://localhost:8080/",
          "height": 296
        },
        "outputId": "f78bb4b3-3302-4a5e-f119-ecc0fa22898b"
      },
      "source": [
        "# Comparação de solicitações de drenagem para anos de 2020 a 2016\n",
        "\n",
        "ax = crossed_info.plot(x='month', y = 'CHAMADOS_EMLURB', ylabel='Solicitações de drenagem', xlabel='Mês', kind = 'line', color='blue', label='Casos 2020')\n",
        "crossed_info19.plot(x='month', y = 'CHAMADOS_EMLURB', kind = 'line', ax=ax, color='orange', label='Casos 2019')\n",
        "crossed_info18.plot(x='month', y = 'CHAMADOS_EMLURB', kind = 'line', ax=ax, color='red', label='Casos 2018')\n",
        "crossed_info17.plot(x='month', y = 'CHAMADOS_EMLURB', kind = 'line', ax=ax, color='green', label='Casos 2017')\n",
        "crossed_info16.plot(x='month', y = 'CHAMADOS_EMLURB', kind = 'line', ax=ax, color='cyan', label='Casos 2016')"
      ],
      "execution_count": null,
      "outputs": [
        {
          "output_type": "execute_result",
          "data": {
            "text/plain": [
              "<matplotlib.axes._subplots.AxesSubplot at 0x7fdef4f02e90>"
            ]
          },
          "metadata": {
            "tags": []
          },
          "execution_count": 19
        },
        {
          "output_type": "display_data",
          "data": {
            "image/png": "[encoded data removed]",
            "text/plain": [
              "<Figure size 432x288 with 1 Axes>"
            ]
          },
          "metadata": {
            "tags": [],
            "needs_background": "light"
          }
        }
      ]
    },
    {
      "cell_type": "markdown",
      "metadata": {
        "id": "GvtjhYM8tBPb"
      },
      "source": [
        ""
      ]
    },
    {
      "cell_type": "markdown",
      "metadata": {
        "id": "Hs_ITf0ams6x"
      },
      "source": [
        "## **Boxplots e Outliers**\n",
        "\n",
        "O boxplot tem como objetivo estudar as medidas estatística do conjunto de dados, como variabilidade, média, e outliers."
      ]
    },
    {
      "cell_type": "markdown",
      "metadata": {
        "id": "_IG3i-yTFHk-"
      },
      "source": [
        "**Dengue**\n",
        "\n",
        "Como visto nos gráficos anteriores, 2016 foi um ano atípico, consideraremos ele como outlier, e o gráfico com o mesmo adicionado será mostrado em segundo, após o gráfico princial, com dados de 2020 até 2017"
      ]
    },
    {
      "cell_type": "code",
      "metadata": {
        "id": "qn5YnYQ-ueQB",
        "colab": {
          "base_uri": "https://localhost:8080/",
          "height": 348
        },
        "outputId": "5d569fb1-d65b-479f-8121-950f6ff3fed5"
      },
      "source": [
        "#Boxplot para os casos de dengue por mês no primeiro semestre de 2016 a 2020\n",
        "\n",
        "data_temp_19 = crossed_info19\n",
        "data_temp_19 = data_temp_19.drop(data_temp_19.index[[7,8,9,10,11]])\n",
        "\n",
        "data_temp_18 = crossed_info18\n",
        "data_temp_18 = data_temp_18.drop(data_temp_18.index[[7,8,9,10,11]])\n",
        "\n",
        "data_temp_17 = crossed_info17\n",
        "data_temp_17 = data_temp_17.drop(data_temp_17.index[[7,8,9,10,11]])\n",
        "\n",
        "data_temp_16 = crossed_info16\n",
        "data_temp_16 = data_temp_16.drop(data_temp_16.index[[7,8,9,10,11]])\n",
        "\n",
        "data_temp_16 = data_temp_16[['CASOS_DENGUE', 'CHAMADOS_EMLURB', 'month']]\n",
        "data_temp_17 = data_temp_17[['CASOS_DENGUE', 'CHAMADOS_EMLURB', 'month']]\n",
        "data_temp_18 = data_temp_18[['CASOS_DENGUE', 'CHAMADOS_EMLURB', 'month']]\n",
        "data_temp_19 = data_temp_19[['CASOS_DENGUE', 'CHAMADOS_EMLURB', 'month']]\n",
        "data_temp_20 = crossed_info[['CASOS_DENGUE', 'CHAMADOS_EMLURB', 'month']]\n",
        "\n",
        "merge_info = data_temp_20.append([data_temp_19,data_temp_18,data_temp_17], ignore_index = True)\n",
        "\n",
        "ax = merge_info.boxplot(column=['CASOS_DENGUE'],by=\"month\",figsize=(8,5), )\n",
        "ax.set_xlabel(\"Mês\")\n",
        "ax.set_ylabel(\"Casos dengue\")\n",
        "\n",
        "title_boxplot = 'Casos de dengue por mês 2017-2020'\n",
        "plt.title( title_boxplot )\n",
        "plt.suptitle('')\n",
        "plt.show()\n"
      ],
      "execution_count": null,
      "outputs": [
        {
          "output_type": "display_data",
          "data": {
            "image/png": "[encoded data removed]",
            "text/plain": [
              "<Figure size 576x360 with 1 Axes>"
            ]
          },
          "metadata": {
            "tags": [],
            "needs_background": "light"
          }
        }
      ]
    },
    {
      "cell_type": "code",
      "metadata": {
        "id": "_DlyyhjLgCjw"
      },
      "source": [
        "merge_info = merge_info.append(data_temp_16, ignore_index=True)"
      ],
      "execution_count": null,
      "outputs": []
    },
    {
      "cell_type": "code",
      "metadata": {
        "id": "MxjxpDr5Fvap",
        "colab": {
          "base_uri": "https://localhost:8080/",
          "height": 348
        },
        "outputId": "7eb36db0-9417-4211-8e31-693702eb2ecd"
      },
      "source": [
        "ax = merge_info.boxplot(column=['CASOS_DENGUE'],by=\"month\",figsize=(8,5))\n",
        "ax.set_xlabel(\"Mês\")\n",
        "ax.set_ylabel(\"Casos dengue\")\n",
        "\n",
        "title_boxplot = 'Casos de dengue por mês 2016-2020'\n",
        "plt.title( title_boxplot )\n",
        "plt.suptitle('')\n",
        "plt.show()\n"
      ],
      "execution_count": null,
      "outputs": [
        {
          "output_type": "display_data",
          "data": {
            "image/png": "[encoded data removed]",
            "text/plain": [
              "<Figure size 576x360 with 1 Axes>"
            ]
          },
          "metadata": {
            "tags": [],
            "needs_background": "light"
          }
        }
      ]
    },
    {
      "cell_type": "code",
      "metadata": {
        "id": "LJO7hOzRBQOa",
        "colab": {
          "base_uri": "https://localhost:8080/",
          "height": 348
        },
        "outputId": "ae836898-2a1f-41f9-88c8-a8376e49f821"
      },
      "source": [
        "#Boxplot para solicitações de drenagem por mês no primeiro semestre de 2016 a 2020\n",
        "\n",
        "ax = merge_info.boxplot(column=['CHAMADOS_EMLURB'],by=\"month\",figsize=(8,5))\n",
        "ax.set_xlabel(\"Mês\")\n",
        "ax.set_ylabel(\"Solicitações\")\n",
        "\n",
        "title_boxplot = 'Drenagens solicitadas por mês 2016-2020'\n",
        "plt.title( title_boxplot )\n",
        "plt.suptitle('')\n",
        "plt.show()"
      ],
      "execution_count": null,
      "outputs": [
        {
          "output_type": "display_data",
          "data": {
            "image/png": "[encoded data removed]",
            "text/plain": [
              "<Figure size 576x360 with 1 Axes>"
            ]
          },
          "metadata": {
            "tags": [],
            "needs_background": "light"
          }
        }
      ]
    },
    {
      "cell_type": "markdown",
      "metadata": {
        "id": "GsYU8KgKgshq"
      },
      "source": [
        "## Detecção de Outliers com Z-Score\n",
        "\n",
        "Um outlier de um conjunto de dados é definido como um valor que está a mais de 3 desvios padrão da média. A remoção de outliers de um data frame remove quaisquer linhas de dados que contenham um outlier. Cálculos de outliers são executados separadamente para cada coluna."
      ]
    },
    {
      "cell_type": "code",
      "metadata": {
        "colab": {
          "base_uri": "https://localhost:8080/"
        },
        "id": "Bf-PvKbXljh1",
        "outputId": "4b0a2d57-735b-479c-90d2-152402de6861"
      },
      "source": [
        "# Outlier para casos de dengue entre 2016 - 2020\n",
        "\n",
        "z = np.abs(stats.zscore(merge_info.CASOS_DENGUE))\n",
        "print(z)\n",
        "\n",
        "outliers_positions = np.where(z > 3)\n",
        "print(\"\\nPosição de outlier(s) : \")\n",
        "print(outliers_positions)\n"
      ],
      "execution_count": null,
      "outputs": [
        {
          "output_type": "stream",
          "text": [
            "[0.45212341 0.46328967 0.44868763 0.56035031 0.57924707 0.44181608\n",
            " 0.52599256 0.54145355 0.46672545 0.39371524 0.20302974 0.21527583\n",
            " 0.01492108 0.24276202 0.55691453 0.50795475 0.48991693 0.3241408\n",
            " 0.25972002 0.35248594 0.39371524 0.47445594 0.42206038 0.33358918\n",
            " 0.43666242 0.3851258  0.37997214 0.5208389  2.05427422 4.13893051\n",
            " 2.59798557 1.15753703 0.64646555 0.0967416  0.22106756]\n",
            "\n",
            "Posição de outlier(s) : \n",
            "(array([29]),)\n"
          ],
          "name": "stdout"
        }
      ]
    },
    {
      "cell_type": "markdown",
      "metadata": {
        "id": "QVPqSUNtwXEE"
      },
      "source": [
        "Ou seja, há um outlier na linha 29 da coluna que analisamos (CASOS_DENGUE)."
      ]
    },
    {
      "cell_type": "code",
      "metadata": {
        "colab": {
          "base_uri": "https://localhost:8080/"
        },
        "id": "-zAkpljqwDSN",
        "outputId": "3b7b6203-8085-4105-eabf-acb0497ff3ff"
      },
      "source": [
        "print(\"\\nValor(es) de outlier(s) : \")\n",
        "print(merge_info.CASOS_DENGUE[29])"
      ],
      "execution_count": null,
      "outputs": [
        {
          "output_type": "stream",
          "text": [
            "\n",
            "Valor(es) de outlier(s) : \n",
            "5540\n"
          ],
          "name": "stdout"
        }
      ]
    },
    {
      "cell_type": "code",
      "metadata": {
        "colab": {
          "base_uri": "https://localhost:8080/"
        },
        "id": "qbLmD4Nwo27t",
        "outputId": "1011d3bc-ae67-4d99-e416-20763bf96312"
      },
      "source": [
        "# Outlier para drenagens entre 2016 - 2020\n",
        "\n",
        "z = np.abs(stats.zscore(merge_info.CHAMADOS_EMLURB))\n",
        "print(z)\n",
        "\n",
        "outliers_positions = np.where(z > 3)\n",
        "print(\"\\nPosição de outlier(s) : \")\n",
        "print(outliers_positions)"
      ],
      "execution_count": null,
      "outputs": [
        {
          "output_type": "stream",
          "text": [
            "[0.75395527 0.66083115 0.35863288 1.89104976 1.61167741 0.95980858\n",
            " 0.59389381 0.80786923 0.59389381 0.43537276 1.09382329 1.48592484\n",
            " 0.51057223 0.92718013 0.49908926 0.31942273 1.09382329 2.03976828\n",
            " 0.74093189 0.07435926 0.08738263 1.62638122 1.65578883 0.78504332\n",
            " 0.12169152 0.42725065 1.00069917 2.04957082 0.59221338 0.96470985\n",
            " 0.29323595 1.19016824 0.39294177 0.29323595 0.04327121]\n",
            "\n",
            "Posição de outlier(s) : \n",
            "(array([], dtype=int64),)\n"
          ],
          "name": "stdout"
        }
      ]
    },
    {
      "cell_type": "markdown",
      "metadata": {
        "id": "5PT_v-Jnx96s"
      },
      "source": [
        "Para solicitações de drenagem, nenhum outlier foi encontrado no conjunto."
      ]
    }
  ]
}